{
 "cells": [
  {
   "cell_type": "code",
   "execution_count": 1,
   "metadata": {},
   "outputs": [
    {
     "data": {
      "image/svg+xml": [
       "<?xml version=\"1.0\" encoding=\"utf-8\"?>\n",
       "<svg xmlns=\"http://www.w3.org/2000/svg\" xmlns:xlink=\"http://www.w3.org/1999/xlink\" width=\"600\" height=\"400\" viewBox=\"0 0 2400 1600\">\n",
       "<defs>\n",
       "  <clipPath id=\"clip4500\">\n",
       "    <rect x=\"0\" y=\"0\" width=\"2000\" height=\"2000\"/>\n",
       "  </clipPath>\n",
       "</defs>\n",
       "<defs>\n",
       "  <clipPath id=\"clip4501\">\n",
       "    <rect x=\"0\" y=\"0\" width=\"2400\" height=\"1600\"/>\n",
       "  </clipPath>\n",
       "</defs>\n",
       "<polygon clip-path=\"url(#clip4501)\" points=\"\n",
       "0,1600 2400,1600 2400,0 0,0 \n",
       "  \" fill=\"#ffffff\" fill-opacity=\"1\"/>\n",
       "<defs>\n",
       "  <clipPath id=\"clip4502\">\n",
       "    <rect x=\"480\" y=\"0\" width=\"1681\" height=\"1600\"/>\n",
       "  </clipPath>\n",
       "</defs>\n",
       "<polygon clip-path=\"url(#clip4501)\" points=\"\n",
       "149.361,1503.47 2321.26,1503.47 2321.26,47.2441 149.361,47.2441 \n",
       "  \" fill=\"#ffffff\" fill-opacity=\"1\"/>\n",
       "<defs>\n",
       "  <clipPath id=\"clip4503\">\n",
       "    <rect x=\"149\" y=\"47\" width=\"2173\" height=\"1457\"/>\n",
       "  </clipPath>\n",
       "</defs>\n",
       "<polyline clip-path=\"url(#clip4503)\" style=\"stroke:#000000; stroke-width:2; stroke-opacity:0.1; fill:none\" points=\"\n",
       "  190.36,1503.47 190.36,47.2441 \n",
       "  \"/>\n",
       "<polyline clip-path=\"url(#clip4503)\" style=\"stroke:#000000; stroke-width:2; stroke-opacity:0.1; fill:none\" points=\"\n",
       "  714.377,1503.47 714.377,47.2441 \n",
       "  \"/>\n",
       "<polyline clip-path=\"url(#clip4503)\" style=\"stroke:#000000; stroke-width:2; stroke-opacity:0.1; fill:none\" points=\"\n",
       "  1238.39,1503.47 1238.39,47.2441 \n",
       "  \"/>\n",
       "<polyline clip-path=\"url(#clip4503)\" style=\"stroke:#000000; stroke-width:2; stroke-opacity:0.1; fill:none\" points=\"\n",
       "  1762.41,1503.47 1762.41,47.2441 \n",
       "  \"/>\n",
       "<polyline clip-path=\"url(#clip4503)\" style=\"stroke:#000000; stroke-width:2; stroke-opacity:0.1; fill:none\" points=\"\n",
       "  2286.43,1503.47 2286.43,47.2441 \n",
       "  \"/>\n",
       "<polyline clip-path=\"url(#clip4503)\" style=\"stroke:#000000; stroke-width:2; stroke-opacity:0.1; fill:none\" points=\"\n",
       "  149.361,1350.02 2321.26,1350.02 \n",
       "  \"/>\n",
       "<polyline clip-path=\"url(#clip4503)\" style=\"stroke:#000000; stroke-width:2; stroke-opacity:0.1; fill:none\" points=\"\n",
       "  149.361,997.689 2321.26,997.689 \n",
       "  \"/>\n",
       "<polyline clip-path=\"url(#clip4503)\" style=\"stroke:#000000; stroke-width:2; stroke-opacity:0.1; fill:none\" points=\"\n",
       "  149.361,645.358 2321.26,645.358 \n",
       "  \"/>\n",
       "<polyline clip-path=\"url(#clip4503)\" style=\"stroke:#000000; stroke-width:2; stroke-opacity:0.1; fill:none\" points=\"\n",
       "  149.361,293.028 2321.26,293.028 \n",
       "  \"/>\n",
       "<polyline clip-path=\"url(#clip4501)\" style=\"stroke:#000000; stroke-width:4; stroke-opacity:1; fill:none\" points=\"\n",
       "  149.361,1503.47 2321.26,1503.47 \n",
       "  \"/>\n",
       "<polyline clip-path=\"url(#clip4501)\" style=\"stroke:#000000; stroke-width:4; stroke-opacity:1; fill:none\" points=\"\n",
       "  149.361,1503.47 149.361,47.2441 \n",
       "  \"/>\n",
       "<polyline clip-path=\"url(#clip4501)\" style=\"stroke:#000000; stroke-width:4; stroke-opacity:1; fill:none\" points=\"\n",
       "  190.36,1503.47 190.36,1481.63 \n",
       "  \"/>\n",
       "<polyline clip-path=\"url(#clip4501)\" style=\"stroke:#000000; stroke-width:4; stroke-opacity:1; fill:none\" points=\"\n",
       "  714.377,1503.47 714.377,1481.63 \n",
       "  \"/>\n",
       "<polyline clip-path=\"url(#clip4501)\" style=\"stroke:#000000; stroke-width:4; stroke-opacity:1; fill:none\" points=\"\n",
       "  1238.39,1503.47 1238.39,1481.63 \n",
       "  \"/>\n",
       "<polyline clip-path=\"url(#clip4501)\" style=\"stroke:#000000; stroke-width:4; stroke-opacity:1; fill:none\" points=\"\n",
       "  1762.41,1503.47 1762.41,1481.63 \n",
       "  \"/>\n",
       "<polyline clip-path=\"url(#clip4501)\" style=\"stroke:#000000; stroke-width:4; stroke-opacity:1; fill:none\" points=\"\n",
       "  2286.43,1503.47 2286.43,1481.63 \n",
       "  \"/>\n",
       "<polyline clip-path=\"url(#clip4501)\" style=\"stroke:#000000; stroke-width:4; stroke-opacity:1; fill:none\" points=\"\n",
       "  149.361,1350.02 181.939,1350.02 \n",
       "  \"/>\n",
       "<polyline clip-path=\"url(#clip4501)\" style=\"stroke:#000000; stroke-width:4; stroke-opacity:1; fill:none\" points=\"\n",
       "  149.361,997.689 181.939,997.689 \n",
       "  \"/>\n",
       "<polyline clip-path=\"url(#clip4501)\" style=\"stroke:#000000; stroke-width:4; stroke-opacity:1; fill:none\" points=\"\n",
       "  149.361,645.358 181.939,645.358 \n",
       "  \"/>\n",
       "<polyline clip-path=\"url(#clip4501)\" style=\"stroke:#000000; stroke-width:4; stroke-opacity:1; fill:none\" points=\"\n",
       "  149.361,293.028 181.939,293.028 \n",
       "  \"/>\n",
       "<g clip-path=\"url(#clip4501)\">\n",
       "<text style=\"fill:#000000; fill-opacity:1; font-family:Arial,Helvetica Neue,Helvetica,sans-serif; font-size:48px; text-anchor:middle;\" transform=\"rotate(0, 190.36, 1557.47)\" x=\"190.36\" y=\"1557.47\">-2</text>\n",
       "</g>\n",
       "<g clip-path=\"url(#clip4501)\">\n",
       "<text style=\"fill:#000000; fill-opacity:1; font-family:Arial,Helvetica Neue,Helvetica,sans-serif; font-size:48px; text-anchor:middle;\" transform=\"rotate(0, 714.377, 1557.47)\" x=\"714.377\" y=\"1557.47\">-1</text>\n",
       "</g>\n",
       "<g clip-path=\"url(#clip4501)\">\n",
       "<text style=\"fill:#000000; fill-opacity:1; font-family:Arial,Helvetica Neue,Helvetica,sans-serif; font-size:48px; text-anchor:middle;\" transform=\"rotate(0, 1238.39, 1557.47)\" x=\"1238.39\" y=\"1557.47\">0</text>\n",
       "</g>\n",
       "<g clip-path=\"url(#clip4501)\">\n",
       "<text style=\"fill:#000000; fill-opacity:1; font-family:Arial,Helvetica Neue,Helvetica,sans-serif; font-size:48px; text-anchor:middle;\" transform=\"rotate(0, 1762.41, 1557.47)\" x=\"1762.41\" y=\"1557.47\">1</text>\n",
       "</g>\n",
       "<g clip-path=\"url(#clip4501)\">\n",
       "<text style=\"fill:#000000; fill-opacity:1; font-family:Arial,Helvetica Neue,Helvetica,sans-serif; font-size:48px; text-anchor:middle;\" transform=\"rotate(0, 2286.43, 1557.47)\" x=\"2286.43\" y=\"1557.47\">2</text>\n",
       "</g>\n",
       "<g clip-path=\"url(#clip4501)\">\n",
       "<text style=\"fill:#000000; fill-opacity:1; font-family:Arial,Helvetica Neue,Helvetica,sans-serif; font-size:48px; text-anchor:end;\" transform=\"rotate(0, 125.361, 1367.52)\" x=\"125.361\" y=\"1367.52\">-2</text>\n",
       "</g>\n",
       "<g clip-path=\"url(#clip4501)\">\n",
       "<text style=\"fill:#000000; fill-opacity:1; font-family:Arial,Helvetica Neue,Helvetica,sans-serif; font-size:48px; text-anchor:end;\" transform=\"rotate(0, 125.361, 1015.19)\" x=\"125.361\" y=\"1015.19\">-1</text>\n",
       "</g>\n",
       "<g clip-path=\"url(#clip4501)\">\n",
       "<text style=\"fill:#000000; fill-opacity:1; font-family:Arial,Helvetica Neue,Helvetica,sans-serif; font-size:48px; text-anchor:end;\" transform=\"rotate(0, 125.361, 662.858)\" x=\"125.361\" y=\"662.858\">0</text>\n",
       "</g>\n",
       "<g clip-path=\"url(#clip4501)\">\n",
       "<text style=\"fill:#000000; fill-opacity:1; font-family:Arial,Helvetica Neue,Helvetica,sans-serif; font-size:48px; text-anchor:end;\" transform=\"rotate(0, 125.361, 310.528)\" x=\"125.361\" y=\"310.528\">1</text>\n",
       "</g>\n",
       "<polyline clip-path=\"url(#clip4503)\" style=\"stroke:#009af9; stroke-width:4; stroke-opacity:1; fill:none\" points=\"\n",
       "  210.829,88.4582 400.103,91.9174 513.848,92.309 610.018,94.9123 714.486,102.674 810.796,116.461 862.424,127.1 914.051,140.313 973.866,159.116 1033.68,181.931 \n",
       "  1086.84,205.76 1140,233.061 1186.61,259.928 1233.22,289.567 1284.04,325.057 1334.87,363.845 1385.99,406.148 1437.11,451.67 1493.64,505.618 1550.16,563.186 \n",
       "  1603.94,621.113 1657.72,681.881 1769.56,816.191 1863.7,935.927 1978.64,1087.59 2086.69,1232.64 2259.79,1462.26 \n",
       "  \"/>\n",
       "<polygon clip-path=\"url(#clip4501)\" points=\"\n",
       "1958.43,251.724 2249.26,251.724 2249.26,130.764 1958.43,130.764 \n",
       "  \" fill=\"#ffffff\" fill-opacity=\"1\"/>\n",
       "<polyline clip-path=\"url(#clip4501)\" style=\"stroke:#000000; stroke-width:4; stroke-opacity:1; fill:none\" points=\"\n",
       "  1958.43,251.724 2249.26,251.724 2249.26,130.764 1958.43,130.764 1958.43,251.724 \n",
       "  \"/>\n",
       "<polyline clip-path=\"url(#clip4501)\" style=\"stroke:#009af9; stroke-width:4; stroke-opacity:1; fill:none\" points=\"\n",
       "  1982.43,191.244 2126.43,191.244 \n",
       "  \"/>\n",
       "<g clip-path=\"url(#clip4501)\">\n",
       "<text style=\"fill:#000000; fill-opacity:1; font-family:Arial,Helvetica Neue,Helvetica,sans-serif; font-size:48px; text-anchor:start;\" transform=\"rotate(0, 2150.43, 208.744)\" x=\"2150.43\" y=\"208.744\">y1</text>\n",
       "</g>\n",
       "</svg>\n"
      ]
     },
     "execution_count": 1,
     "metadata": {},
     "output_type": "execute_result"
    }
   ],
   "source": [
    "using Plots\n",
    "f(x) = cos(x) - x\n",
    "plot(f, -2, 2)"
   ]
  },
  {
   "cell_type": "code",
   "execution_count": 2,
   "metadata": {},
   "outputs": [
    {
     "data": {
      "text/plain": [
       "falsePos (generic function with 1 method)"
      ]
     },
     "execution_count": 2,
     "metadata": {},
     "output_type": "execute_result"
    }
   ],
   "source": [
    "using Roots\n",
    "function falsePos(f) \n",
    "    x = find_zero(f, (0, 1), FalsePosition(), verbose=true)\n",
    "    iszero(f(x))\n",
    "end"
   ]
  },
  {
   "cell_type": "code",
   "execution_count": 3,
   "metadata": {},
   "outputs": [
    {
     "data": {
      "text/plain": [
       "newton (generic function with 1 method)"
      ]
     },
     "execution_count": 3,
     "metadata": {},
     "output_type": "execute_result"
    }
   ],
   "source": [
    "using ForwardDiff\n",
    "function newton(f)\n",
    "    D(f) = x->ForwardDiff.derivative(f, float(x))\n",
    "    x = find_zero((f, D(f)),0, Roots.Newton(),verbose=true)\n",
    "    iszero(f(x))\n",
    "end"
   ]
  },
  {
   "cell_type": "code",
   "execution_count": 4,
   "metadata": {},
   "outputs": [
    {
     "data": {
      "text/plain": [
       "steffensen (generic function with 1 method)"
      ]
     },
     "execution_count": 4,
     "metadata": {},
     "output_type": "execute_result"
    }
   ],
   "source": [
    "function steffensen(f)\n",
    "    x = find_zero(f, 0, Order2(), verbose=true)\n",
    "    iszero(f(x))\n",
    "end"
   ]
  },
  {
   "cell_type": "code",
   "execution_count": 5,
   "metadata": {},
   "outputs": [
    {
     "name": "stdout",
     "output_type": "stream",
     "text": [
      "Results of univariate zero finding:\n",
      "\n",
      "* Converged to: 7.62939453125e-6\n",
      "* Algorithm: FalsePosition{:anderson_bjork}()\n",
      "* iterations: 17\n",
      "* function evaluations: 19\n",
      "* stopped as |f(x_n)| ≤ max(δ, max(1,|x|)⋅ϵ) using δ = atol, ϵ = rtol\n",
      "\n",
      "Trace:\n",
      "(a_0, b_0) = ( 0.0000000000000000,  1.0000000000000000)\n",
      "(a_1, b_1) = ( 0.0000000000000000,  0.5000000000000000)\n",
      "(a_2, b_2) = ( 0.0000000000000000,  0.2500000000000000)\n",
      "(a_3, b_3) = ( 0.0000000000000000,  0.1250000000000000)\n",
      "(a_4, b_4) = ( 0.0000000000000000,  0.0625000000000000)\n",
      "(a_5, b_5) = ( 0.0000000000000000,  0.0312500000000000)\n",
      "(a_6, b_6) = ( 0.0000000000000000,  0.0156250000000000)\n",
      "(a_7, b_7) = ( 0.0000000000000000,  0.0078125000000000)\n",
      "(a_8, b_8) = ( 0.0000000000000000,  0.0039062500000000)\n",
      "(a_9, b_9) = ( 0.0000000000000000,  0.0019531250000000)\n",
      "(a_10, b_10) = ( 0.0000000000000000,  0.0009765625000000)\n",
      "(a_11, b_11) = ( 0.0000000000000000,  0.0004882812500000)\n",
      "(a_12, b_12) = ( 0.0000000000000000,  0.0002441406250000)\n",
      "(a_13, b_13) = ( 0.0000000000000000,  0.0001220703125000)\n",
      "(a_14, b_14) = ( 0.0000000000000000,  0.0000610351562500)\n",
      "(a_15, b_15) = ( 0.0000000000000000,  0.0000305175781250)\n",
      "(a_16, b_16) = ( 0.0000000000000000,  0.0000152587890625)\n",
      "(a_17, b_17) = ( 0.0000000000000000,  0.0000076293945313)\n",
      "\n"
     ]
    },
    {
     "data": {
      "text/plain": [
       "false"
      ]
     },
     "execution_count": 5,
     "metadata": {},
     "output_type": "execute_result"
    }
   ],
   "source": [
    "f(x) = x^3\n",
    "falsePos(f)"
   ]
  },
  {
   "cell_type": "code",
   "execution_count": 6,
   "metadata": {},
   "outputs": [
    {
     "name": "stdout",
     "output_type": "stream",
     "text": [
      "Results of univariate zero finding:\n",
      "\n",
      "* Converged to: 0.0\n",
      "* Algorithm: Roots.Newton()\n",
      "* iterations: 0\n",
      "* function evaluations: 1\n",
      "* stopped as |f(x_n)| ≤ max(δ, max(1,|x|)⋅ϵ) using δ = atol, ϵ = rtol\n",
      "\n",
      "Trace:\n",
      "x_0 =  0.0000000000000000,\t fx_0 =  0.0000000000000000\n",
      "\n"
     ]
    },
    {
     "data": {
      "text/plain": [
       "true"
      ]
     },
     "execution_count": 6,
     "metadata": {},
     "output_type": "execute_result"
    }
   ],
   "source": [
    "newton(f)"
   ]
  },
  {
   "cell_type": "code",
   "execution_count": 7,
   "metadata": {},
   "outputs": [
    {
     "name": "stdout",
     "output_type": "stream",
     "text": [
      "Results of univariate zero finding:\n",
      "\n",
      "* Converged to: 0.0\n",
      "* Algorithm: Roots.Steffensen()\n",
      "* iterations: 0\n",
      "* function evaluations: 1\n",
      "* stopped as |f(x_n)| ≤ max(δ, max(1,|x|)⋅ϵ) using δ = atol, ϵ = rtol\n",
      "\n",
      "Trace:\n",
      "x_0 =  0.0000000000000000,\t fx_0 =  0.0000000000000000\n",
      "\n"
     ]
    },
    {
     "data": {
      "text/plain": [
       "true"
      ]
     },
     "execution_count": 7,
     "metadata": {},
     "output_type": "execute_result"
    }
   ],
   "source": [
    "steffensen(f)"
   ]
  },
  {
   "cell_type": "code",
   "execution_count": 8,
   "metadata": {},
   "outputs": [
    {
     "name": "stdout",
     "output_type": "stream",
     "text": [
      "Results of univariate zero finding:\n",
      "\n",
      "* Converged to: 0.7390851332151606\n",
      "* Algorithm: FalsePosition{:anderson_bjork}()\n",
      "* iterations: 7\n",
      "* function evaluations: 9\n",
      "* stopped as |f(x_n)| ≤ max(δ, max(1,|x|)⋅ϵ) using δ = atol, ϵ = rtol\n",
      "\n",
      "Trace:\n",
      "(a_0, b_0) = ( 0.0000000000000000,  1.0000000000000000)\n",
      "(a_1, b_1) = ( 1.0000000000000000,  0.5000000000000000)\n",
      "(a_2, b_2) = ( 1.0000000000000000,  0.6370453475297477)\n",
      "(a_3, b_3) = ( 1.0000000000000000,  0.7205529551767942)\n",
      "(a_4, b_4) = ( 1.0000000000000000,  0.7383229967452796)\n",
      "(a_5, b_5) = ( 0.7383229967452796,  0.7390860519740818)\n",
      "(a_6, b_6) = ( 0.7390860519740818,  0.7390851330604866)\n",
      "(a_7, b_7) = ( 0.7390860519740818,  0.7390851332151606)\n",
      "\n"
     ]
    },
    {
     "data": {
      "text/plain": [
       "false"
      ]
     },
     "execution_count": 8,
     "metadata": {},
     "output_type": "execute_result"
    }
   ],
   "source": [
    "f(x) = cos(x)- x\n",
    "falsePos(f)"
   ]
  },
  {
   "cell_type": "code",
   "execution_count": 9,
   "metadata": {},
   "outputs": [
    {
     "name": "stdout",
     "output_type": "stream",
     "text": [
      "Results of univariate zero finding:\n",
      "\n",
      "* Converged to: 0.7390851332151607\n",
      "* Algorithm: Roots.Newton()\n",
      "* iterations: 5\n",
      "* function evaluations: 6\n",
      "* stopped as |f(x_n)| ≤ max(δ, max(1,|x|)⋅ϵ) using δ = atol, ϵ = rtol\n",
      "\n",
      "Trace:\n",
      "x_0 =  0.0000000000000000,\t fx_0 =  1.0000000000000000\n",
      "x_1 =  1.0000000000000000,\t fx_1 = -0.4596976941318602\n",
      "x_2 =  0.7503638678402439,\t fx_2 = -0.0189230738221174\n",
      "x_3 =  0.7391128909113617,\t fx_3 = -0.0000464558989908\n",
      "x_4 =  0.7390851333852840,\t fx_4 = -0.0000000002847206\n",
      "x_5 =  0.7390851332151607,\t fx_5 =  0.0000000000000000\n",
      "\n"
     ]
    },
    {
     "data": {
      "text/plain": [
       "true"
      ]
     },
     "execution_count": 9,
     "metadata": {},
     "output_type": "execute_result"
    }
   ],
   "source": [
    "newton(f)"
   ]
  },
  {
   "cell_type": "code",
   "execution_count": 10,
   "metadata": {},
   "outputs": [
    {
     "name": "stdout",
     "output_type": "stream",
     "text": [
      "Results of univariate zero finding:\n",
      "\n",
      "* Converged to: 0.7390851332151607\n",
      "* Algorithm: Roots.Steffensen()\n",
      "* iterations: 5\n",
      "* function evaluations: 11\n",
      "* stopped as |f(x_n)| ≤ max(δ, max(1,|x|)⋅ϵ) using δ = atol, ϵ = rtol\n",
      "\n",
      "Trace:\n",
      "x_0 =  0.0000000000000000,\t fx_0 =  1.0000000000000000\n",
      "x_1 =  0.9999999925494194,\t fx_1 = -0.4596976804118323\n",
      "x_2 =  0.7503638670737971,\t fx_2 = -0.0189230725330267\n",
      "x_3 =  0.7391128908368132,\t fx_3 = -0.0000464557742240\n",
      "x_4 =  0.7390851333852108,\t fx_4 = -0.0000000002845979\n",
      "x_5 =  0.7390851332151607,\t fx_5 =  0.0000000000000000\n",
      "\n"
     ]
    },
    {
     "data": {
      "text/plain": [
       "true"
      ]
     },
     "execution_count": 10,
     "metadata": {},
     "output_type": "execute_result"
    }
   ],
   "source": [
    "steffensen(f)"
   ]
  },
  {
   "cell_type": "code",
   "execution_count": 11,
   "metadata": {},
   "outputs": [
    {
     "name": "stdout",
     "output_type": "stream",
     "text": [
      "Results of univariate zero finding:\n",
      "\n",
      "* Converged to: 1.0\n",
      "* Algorithm: FalsePosition{:anderson_bjork}()\n",
      "* iterations: 0\n",
      "* function evaluations: 2\n",
      "* stopped as |f(x_n)| ≤ max(δ, max(1,|x|)⋅ϵ) using δ = atol, ϵ = rtol\n",
      "\n",
      "Trace:\n",
      "(a_0, b_0) = ( 0.0000000000000000,  1.0000000000000000)\n",
      "\n"
     ]
    },
    {
     "data": {
      "text/plain": [
       "true"
      ]
     },
     "execution_count": 11,
     "metadata": {},
     "output_type": "execute_result"
    }
   ],
   "source": [
    "f(x) =(x + 3)*(x - 1)^2\n",
    "falsePos(f)"
   ]
  },
  {
   "cell_type": "code",
   "execution_count": 12,
   "metadata": {},
   "outputs": [
    {
     "name": "stdout",
     "output_type": "stream",
     "text": [
      "Results of univariate zero finding:\n",
      "\n",
      "* Converged to: 0.9999999893171166\n",
      "* Algorithm: Roots.Newton()\n",
      "* iterations: 26\n",
      "* function evaluations: 27\n",
      "* stopped as |f(x_n)| ≤ max(δ, max(1,|x|)⋅ϵ) using δ = atol, ϵ = rtol\n",
      "\n",
      "Trace:\n",
      "x_0 =  0.0000000000000000,\t fx_0 =  3.0000000000000000\n",
      "x_1 =  0.6000000000000000,\t fx_1 =  0.5760000000000002\n",
      "x_2 =  0.8117647058823529,\t fx_2 =  0.1350604518624058\n",
      "x_3 =  0.9082650781831720,\t fx_3 =  0.0328892070132730\n",
      "x_4 =  0.9546772328747365,\t fx_4 =  0.0081235129715387\n",
      "x_5 =  0.9774692207697649,\t fx_5 =  0.0020191066159544\n",
      "x_6 =  0.9887666079847495,\t fx_6 =  0.0005033388530879\n",
      "x_7 =  0.9943912241748282,\t fx_7 =  0.0001256570221040\n",
      "x_8 =  0.9971975823794025,\t fx_8 =  0.0000313921691694\n",
      "x_9 =  0.9985992825526103,\t fx_9 =  0.0000078452892489\n",
      "x_10 =  0.9992997639663359,\t fx_10 =  0.0000019609786643\n",
      "x_11 =  0.9996499126368736,\t fx_11 =  0.0000004902017402\n",
      "x_12 =  0.9998249639795151,\t fx_12 =  0.0000001225450712\n",
      "x_13 =  0.9999124839047338,\t fx_13 =  0.0000000306355974\n",
      "x_14 =  0.9999562424310743,\t fx_14 =  0.0000000076588156\n",
      "x_15 =  0.9999781213352094,\t fx_15 =  0.0000000019146934\n",
      "x_16 =  0.9999890606975221,\t fx_16 =  0.0000000004786720\n",
      "x_17 =  0.9999945303562404,\t fx_17 =  0.0000000001196678\n",
      "x_18 =  0.9999972651799900,\t fx_18 =  0.0000000000299169\n",
      "x_19 =  0.9999986325904624,\t fx_19 =  0.0000000000074792\n",
      "x_20 =  0.9999993162953481,\t fx_20 =  0.0000000000018698\n",
      "x_21 =  0.9999996581477033,\t fx_21 =  0.0000000000004675\n",
      "x_22 =  0.9999998290738590,\t fx_22 =  0.0000000000001169\n",
      "x_23 =  0.9999999145369313,\t fx_23 =  0.0000000000000292\n",
      "x_24 =  0.9999999572684661,\t fx_24 =  0.0000000000000073\n",
      "x_25 =  0.9999999786342332,\t fx_25 =  0.0000000000000018\n",
      "x_26 =  0.9999999893171166,\t fx_26 =  0.0000000000000005\n",
      "\n"
     ]
    },
    {
     "data": {
      "text/plain": [
       "false"
      ]
     },
     "execution_count": 12,
     "metadata": {},
     "output_type": "execute_result"
    }
   ],
   "source": [
    "newton(f)"
   ]
  },
  {
   "cell_type": "code",
   "execution_count": 13,
   "metadata": {},
   "outputs": [
    {
     "name": "stdout",
     "output_type": "stream",
     "text": [
      "Results of univariate zero finding:\n",
      "\n",
      "* Converged to: 0.9999999893208036\n",
      "* Algorithm: Roots.Steffensen()\n",
      "* iterations: 26\n",
      "* function evaluations: 53\n",
      "* stopped as |f(x_n)| ≤ max(δ, max(1,|x|)⋅ϵ) using δ = atol, ϵ = rtol\n",
      "\n",
      "Trace:\n",
      "x_0 =  0.0000000000000000,\t fx_0 =  3.0000000000000000\n",
      "x_1 =  0.6000000035762787,\t fx_1 =  0.5759999902725219\n",
      "x_2 =  0.8117647106156630,\t fx_2 =  0.1350604452377372\n",
      "x_3 =  0.9082650839138897,\t fx_3 =  0.0328892029522947\n",
      "x_4 =  0.9546772393260081,\t fx_4 =  0.0081235106721788\n",
      "x_5 =  0.9774692276385298,\t fx_5 =  0.0020191053883461\n",
      "x_6 =  0.9887666151023178,\t fx_6 =  0.0005033382161471\n",
      "x_7 =  0.9943912314384492,\t fx_7 =  0.0001256566968695\n",
      "x_8 =  0.9971975897261259,\t fx_8 =  0.0000313920046340\n",
      "x_9 =  0.9985992899460747,\t fx_9 =  0.0000078452064434\n",
      "x_10 =  0.9992997713857726,\t fx_10 =  0.0000019609371126\n",
      "x_11 =  0.9996499200706205,\t fx_11 =  0.0000004901809234\n",
      "x_12 =  0.9998249714211066,\t fx_12 =  0.0000001225346517\n",
      "x_13 =  0.9999124913506526,\t fx_13 =  0.0000000306303847\n",
      "x_14 =  0.9999562498794783,\t fx_14 =  0.0000000076562084\n",
      "x_15 =  0.9999781269735694,\t fx_15 =  0.0000000019137067\n",
      "x_16 =  0.9999890639951318,\t fx_16 =  0.0000000004783835\n",
      "x_17 =  0.9999945321246388,\t fx_17 =  0.0000000001195905\n",
      "x_18 =  0.9999972660940859,\t fx_18 =  0.0000000000298969\n",
      "x_19 =  0.9999986330549844,\t fx_19 =  0.0000000000074742\n",
      "x_20 =  0.9999993165294775,\t fx_20 =  0.0000000000018685\n",
      "x_21 =  0.9999996582652351,\t fx_21 =  0.0000000000004671\n",
      "x_22 =  0.9999998291327417,\t fx_22 =  0.0000000000001168\n",
      "x_23 =  0.9999999145664018,\t fx_23 =  0.0000000000000292\n",
      "x_24 =  0.9999999572832087,\t fx_24 =  0.0000000000000073\n",
      "x_25 =  0.9999999786416063,\t fx_25 =  0.0000000000000018\n",
      "x_26 =  0.9999999893208036,\t fx_26 =  0.0000000000000005\n",
      "\n"
     ]
    },
    {
     "data": {
      "text/plain": [
       "false"
      ]
     },
     "execution_count": 13,
     "metadata": {},
     "output_type": "execute_result"
    }
   ],
   "source": [
    "steffensen(f)"
   ]
  },
  {
   "cell_type": "code",
   "execution_count": 14,
   "metadata": {},
   "outputs": [
    {
     "name": "stdout",
     "output_type": "stream",
     "text": [
      "Results of univariate zero finding:\n",
      "\n",
      "* Converged to: 1.0\n",
      "* Algorithm: FalsePosition{:anderson_bjork}()\n",
      "* iterations: 0\n",
      "* function evaluations: 2\n",
      "* stopped as |f(x_n)| ≤ max(δ, max(1,|x|)⋅ϵ) using δ = atol, ϵ = rtol\n",
      "\n",
      "Trace:\n",
      "(a_0, b_0) = ( 0.0000000000000000,  1.0000000000000000)\n",
      "\n"
     ]
    },
    {
     "data": {
      "text/plain": [
       "true"
      ]
     },
     "execution_count": 14,
     "metadata": {},
     "output_type": "execute_result"
    }
   ],
   "source": [
    "f(x) = (x-1)^7\n",
    "falsePos(f)"
   ]
  },
  {
   "cell_type": "code",
   "execution_count": 15,
   "metadata": {},
   "outputs": [
    {
     "name": "stdout",
     "output_type": "stream",
     "text": [
      "Results of univariate zero finding:\n",
      "\n",
      "* Converged to: 0.9938233080518548\n",
      "* Algorithm: Roots.Newton()\n",
      "* iterations: 33\n",
      "* function evaluations: 34\n",
      "* stopped as |f(x_n)| ≤ max(δ, max(1,|x|)⋅ϵ) using δ = atol, ϵ = rtol\n",
      "\n",
      "Trace:\n",
      "x_0 =  0.0000000000000000,\t fx_0 = -1.0000000000000000\n",
      "x_1 =  0.1428571428571428,\t fx_1 = -0.3399166770891139\n",
      "x_2 =  0.2653061224489796,\t fx_2 = -0.1155433473633047\n",
      "x_3 =  0.3702623906705539,\t fx_3 = -0.0392751106954878\n",
      "x_4 =  0.4602249062890462,\t fx_4 = -0.0133502651199173\n",
      "x_5 =  0.5373356339620396,\t fx_5 = -0.0045379777578210\n",
      "x_6 =  0.6034305433960340,\t fx_6 = -0.0015425343201428\n",
      "x_7 =  0.6600833229108862,\t fx_7 = -0.0005243331403989\n",
      "x_8 =  0.7086428482093311,\t fx_8 = -0.0001782295787721\n",
      "x_9 =  0.7502652984651409,\t fx_9 = -0.0000605832061752\n",
      "x_10 =  0.7859416843986922,\t fx_10 = -0.0000205932421305\n",
      "x_11 =  0.8165214437703076,\t fx_11 = -0.0000069999864355\n",
      "x_12 =  0.8427326660888350,\t fx_12 = -0.0000023794121288\n",
      "x_13 =  0.8651994280761443,\t fx_13 = -0.0000008088018643\n",
      "x_14 =  0.8844566526366950,\t fx_14 = -0.0000002749252421\n",
      "x_15 =  0.9009628451171672,\t fx_15 = -0.0000000934516747\n",
      "x_16 =  0.9151110101004291,\t fx_16 = -0.0000000317657827\n",
      "x_17 =  0.9272380086575106,\t fx_17 = -0.0000000107977193\n",
      "x_18 =  0.9376325788492949,\t fx_18 = -0.0000000036703249\n",
      "x_19 =  0.9465422104422527,\t fx_19 = -0.0000000012476046\n",
      "x_20 =  0.9541790375219309,\t fx_20 = -0.0000000004240816\n",
      "x_21 =  0.9607248893045122,\t fx_21 = -0.0000000001441524\n",
      "x_22 =  0.9663356194038676,\t fx_22 = -0.0000000000489998\n",
      "x_23 =  0.9711448166318865,\t fx_23 = -0.0000000000166559\n",
      "x_24 =  0.9752669856844741,\t fx_24 = -0.0000000000056616\n",
      "x_25 =  0.9788002734438349,\t fx_25 = -0.0000000000019245\n",
      "x_26 =  0.9818288058090013,\t fx_26 = -0.0000000000006542\n",
      "x_27 =  0.9844246906934297,\t fx_27 = -0.0000000000002224\n",
      "x_28 =  0.9866497348800827,\t fx_28 = -0.0000000000000756\n",
      "x_29 =  0.9885569156114994,\t fx_29 = -0.0000000000000257\n",
      "x_30 =  0.9901916419527138,\t fx_30 = -0.0000000000000087\n",
      "x_31 =  0.9915928359594690,\t fx_31 = -0.0000000000000030\n",
      "x_32 =  0.9927938593938306,\t fx_32 = -0.0000000000000010\n",
      "x_33 =  0.9938233080518548,\t fx_33 = -0.0000000000000003\n",
      "\n"
     ]
    },
    {
     "data": {
      "text/plain": [
       "false"
      ]
     },
     "execution_count": 15,
     "metadata": {},
     "output_type": "execute_result"
    }
   ],
   "source": [
    "newton(f)"
   ]
  },
  {
   "cell_type": "code",
   "execution_count": 16,
   "metadata": {},
   "outputs": [
    {
     "name": "stdout",
     "output_type": "stream",
     "text": [
      "Results of univariate zero finding:\n",
      "\n",
      "* Converged to: 0.9938233554929816\n",
      "* Algorithm: Roots.Steffensen()\n",
      "* iterations: 33\n",
      "* function evaluations: 67\n",
      "* stopped as |f(x_n)| ≤ max(δ, max(1,|x|)⋅ϵ) using δ = atol, ϵ = rtol\n",
      "\n",
      "Trace:\n",
      "x_0 =  0.0000000000000000,\t fx_0 = -1.0000000000000000\n",
      "x_1 =  0.1428571364709312,\t fx_1 = -0.3399166948171495\n",
      "x_2 =  0.2653061106890675,\t fx_2 = -0.1155433603094556\n",
      "x_3 =  0.3702623741362906,\t fx_3 = -0.0392751179138839\n",
      "x_4 =  0.4602248857181569,\t fx_4 = -0.0133502686813784\n",
      "x_5 =  0.5373356099364329,\t fx_5 = -0.0045379794073835\n",
      "x_6 =  0.6034305164511407,\t fx_6 = -0.0015425350537949\n",
      "x_7 =  0.6600832934122818,\t fx_7 = -0.0005243334589172\n",
      "x_8 =  0.7086428165214738,\t fx_8 = -0.0001782297144612\n",
      "x_9 =  0.7502652649216527,\t fx_9 = -0.0000605832631365\n",
      "x_10 =  0.7859416492605138,\t fx_10 = -0.0000205932657935\n",
      "x_11 =  0.8165214072616390,\t fx_11 = -0.0000069999961855\n",
      "x_12 =  0.8427326284107499,\t fx_12 = -0.0000023794161192\n",
      "x_13 =  0.8651993893959637,\t fx_13 = -0.0000008088034888\n",
      "x_14 =  0.8844566130981140,\t fx_14 = -0.0000002749259007\n",
      "x_15 =  0.9009628048422893,\t fx_15 = -0.0000000934519408\n",
      "x_16 =  0.9151109691924811,\t fx_16 = -0.0000000317658899\n",
      "x_17 =  0.9272379672067462,\t fx_17 = -0.0000000107977624\n",
      "x_18 =  0.9376325386938084,\t fx_18 = -0.0000000036703414\n",
      "x_19 =  0.9465421744493160,\t fx_19 = -0.0000000012476105\n",
      "x_20 =  0.9541790061387333,\t fx_20 = -0.0000000004240837\n",
      "x_21 =  0.9607248622141276,\t fx_21 = -0.0000000001441531\n",
      "x_22 =  0.9663355961304714,\t fx_22 = -0.0000000000490000\n",
      "x_23 =  0.9711447966565269,\t fx_23 = -0.0000000000166559\n",
      "x_24 =  0.9752669685368145,\t fx_24 = -0.0000000000056616\n",
      "x_25 =  0.9788002585879462,\t fx_25 = -0.0000000000019245\n",
      "x_26 =  0.9818287933270691,\t fx_26 = -0.0000000000006542\n",
      "x_27 =  0.9844246794764496,\t fx_27 = -0.0000000000002224\n",
      "x_28 =  0.9866497251046058,\t fx_28 = -0.0000000000000756\n",
      "x_29 =  0.9885569035424393,\t fx_29 = -0.0000000000000257\n",
      "x_30 =  0.9901916356175670,\t fx_30 = -0.0000000000000087\n",
      "x_31 =  0.9915928104497411,\t fx_31 = -0.0000000000000030\n",
      "x_32 =  0.9927938248956991,\t fx_32 = -0.0000000000000010\n",
      "x_33 =  0.9938233554929816,\t fx_33 = -0.0000000000000003\n",
      "\n"
     ]
    },
    {
     "data": {
      "text/plain": [
       "false"
      ]
     },
     "execution_count": 16,
     "metadata": {},
     "output_type": "execute_result"
    }
   ],
   "source": [
    "steffensen(f)"
   ]
  },
  {
   "cell_type": "code",
   "execution_count": 17,
   "metadata": {},
   "outputs": [
    {
     "name": "stdout",
     "output_type": "stream",
     "text": [
      "Results of univariate zero finding:\n",
      "\n",
      "* Converged to: 2.0945514815423265\n",
      "* Algorithm: FalsePosition{:anderson_bjork}()\n",
      "* iterations: 9\n",
      "* function evaluations: 11\n",
      "* stopped as |f(x_n)| ≤ max(δ, max(1,|x|)⋅ϵ) using δ = atol, ϵ = rtol\n",
      "\n",
      "Trace:\n",
      "(a_0, b_0) = ( 0.0000000000000000,  3.0000000000000000)\n",
      "(a_1, b_1) = ( 3.0000000000000000,  1.5000000000000000)\n",
      "(a_2, b_2) = ( 1.5000000000000000,  2.7333333333333334)\n",
      "(a_3, b_3) = ( 2.7333333333333334,  1.8912491775542815)\n",
      "(a_4, b_4) = ( 2.7333333333333334,  2.0331767581925084)\n",
      "(a_5, b_5) = ( 2.0331767581925084,  2.0961807245122173)\n",
      "(a_6, b_6) = ( 2.0961807245122173,  2.0944938009413154)\n",
      "(a_7, b_7) = ( 2.0961807245122173,  2.0945514286695381)\n",
      "(a_8, b_8) = ( 2.0945514286695381,  2.0945514815423278)\n",
      "(a_9, b_9) = ( 2.0945514815423278,  2.0945514815423265)\n",
      "\n"
     ]
    },
    {
     "data": {
      "text/plain": [
       "false"
      ]
     },
     "execution_count": 17,
     "metadata": {},
     "output_type": "execute_result"
    }
   ],
   "source": [
    "f(x) = x^3 - 2*x - 5\n",
    "x = find_zero(f, (0, 3), FalsePosition(), verbose=true)\n",
    "    iszero(f(x))"
   ]
  },
  {
   "cell_type": "code",
   "execution_count": 18,
   "metadata": {},
   "outputs": [
    {
     "name": "stdout",
     "output_type": "stream",
     "text": [
      "Results of univariate zero finding:\n",
      "\n",
      "* Converged to: 2.0945514815423265\n",
      "* Algorithm: Roots.Newton()\n",
      "* iterations: 19\n",
      "* function evaluations: 20\n",
      "* stopped as |f(x_n)| ≤ max(δ, max(1,|x|)⋅ϵ) using δ = atol, ϵ = rtol\n",
      "\n",
      "Trace:\n",
      "x_0 =  0.0000000000000000,\t fx_0 = -5.0000000000000000\n",
      "x_1 = -2.5000000000000000,\t fx_1 = -15.6250000000000000\n",
      "x_2 = -1.5671641791044775,\t fx_2 = -5.7146324514651070\n",
      "x_3 = -0.5025924450866797,\t fx_3 = -4.1217695422221725\n",
      "x_4 = -3.8207064676993294,\t fx_4 = -53.1324879623681738\n",
      "x_5 = -2.5493933913606064,\t fx_5 = -16.4707576140240164\n",
      "x_6 = -1.6081114997282251,\t fx_6 = -5.9423896750176617\n",
      "x_7 = -0.5761004336602393,\t fx_7 = -4.0390020905449111\n",
      "x_8 = -4.5977095833821693,\t fx_8 = -92.9952575692345391\n",
      "x_9 = -3.0835431467266550,\t fx_9 = -28.1519768702820130\n",
      "x_10 = -2.0221942554643366,\t fx_10 = -9.2249089970538503\n",
      "x_11 = -1.1237641075795191,\t fx_11 = -4.1716125339957122\n",
      "x_12 =  1.2086516123957836,\t fx_12 = -5.6516581502357903\n",
      "x_13 =  3.5807900448965704,\t fx_13 =  33.7515152085330783\n",
      "x_14 =  2.6552331980087693,\t fx_14 =  8.4096268679235848\n",
      "x_15 =  2.2161063074385283,\t fx_15 =  1.4513672740375592\n",
      "x_16 =  2.1021250154847473,\t fx_16 =  0.0848923823417307\n",
      "x_17 =  2.0945835767773091,\t fx_17 =  0.0003582354394256\n",
      "x_18 =  2.0945514821222386,\t fx_18 =  0.0000000064726526\n",
      "x_19 =  2.0945514815423265,\t fx_19 = -0.0000000000000009\n",
      "\n"
     ]
    },
    {
     "data": {
      "text/plain": [
       "false"
      ]
     },
     "execution_count": 18,
     "metadata": {},
     "output_type": "execute_result"
    }
   ],
   "source": [
    "newton(f)"
   ]
  },
  {
   "cell_type": "code",
   "execution_count": 19,
   "metadata": {},
   "outputs": [
    {
     "name": "stdout",
     "output_type": "stream",
     "text": [
      "Results of univariate zero finding:\n",
      "\n",
      "* Converged to: 2.0945514815423265\n",
      "* Algorithm: Roots.Steffensen()\n",
      "* iterations: 19\n",
      "* function evaluations: 39\n",
      "* stopped as |f(x_n)| ≤ max(δ, max(1,|x|)⋅ϵ) using δ = atol, ϵ = rtol\n",
      "\n",
      "Trace:\n",
      "x_0 =  0.0000000000000000,\t fx_0 = -5.0000000000000000\n",
      "x_1 = -2.5000000000000000,\t fx_1 = -15.6250000000000000\n",
      "x_2 = -1.5671641950379980,\t fx_2 = -5.7146325369964153\n",
      "x_3 = -0.5025925022589250,\t fx_3 = -4.1217694712026711\n",
      "x_4 = -3.8207070566180019,\t fx_4 = -53.1325125752821066\n",
      "x_5 = -2.5493938229287205,\t fx_5 = -16.4707651656992411\n",
      "x_6 = -1.6081118739303659,\t fx_6 = -5.9423918296996296\n",
      "x_7 = -0.5761011084697274,\t fx_7 = -4.0390014128177461\n",
      "x_8 = -4.5977189621351204,\t fx_8 = -92.9958335834442948\n",
      "x_9 = -3.0835495401292956,\t fx_9 = -28.1521464538431445\n",
      "x_10 = -2.0221990073254981,\t fx_10 = -9.2249577883927820\n",
      "x_11 = -1.1237691679429629,\t fx_11 = -4.1716215847308558\n",
      "x_12 =  1.2086070716022310,\t fx_12 = -5.6517642622028488\n",
      "x_13 =  3.5811117538676198,\t fx_13 =  33.7632478150499225\n",
      "x_14 =  2.6554086504896608,\t fx_14 =  8.4129871667595122\n",
      "x_15 =  2.2161704147691568,\t fx_15 =  1.4521836044584351\n",
      "x_16 =  2.1021326496815238,\t fx_16 =  0.0849783192496023\n",
      "x_17 =  2.0945836414376764,\t fx_17 =  0.0003589571681957\n",
      "x_18 =  2.0945514821251021,\t fx_18 =  0.0000000065046128\n",
      "x_19 =  2.0945514815423265,\t fx_19 = -0.0000000000000009\n",
      "\n"
     ]
    },
    {
     "data": {
      "text/plain": [
       "false"
      ]
     },
     "execution_count": 19,
     "metadata": {},
     "output_type": "execute_result"
    }
   ],
   "source": [
    "steffensen(f)"
   ]
  },
  {
   "cell_type": "code",
   "execution_count": 20,
   "metadata": {},
   "outputs": [
    {
     "name": "stdout",
     "output_type": "stream",
     "text": [
      "Results of univariate zero finding:\n",
      "\n",
      "* Converged to: 0.09534461720025875\n",
      "* Algorithm: FalsePosition{:anderson_bjork}()\n",
      "* iterations: 10\n",
      "* function evaluations: 12\n",
      "* stopped as |f(x_n)| ≤ max(δ, max(1,|x|)⋅ϵ) using δ = atol, ϵ = rtol\n",
      "\n",
      "Trace:\n",
      "(a_0, b_0) = ( 0.0000000000000000,  1.0000000000000000)\n",
      "(a_1, b_1) = ( 0.0000000000000000,  0.5000000000000000)\n",
      "(a_2, b_2) = ( 0.0000000000000000,  0.1185552607040361)\n",
      "(a_3, b_3) = ( 0.1185552607040361,  0.0560184901722137)\n",
      "(a_4, b_4) = ( 0.0560184901722137,  0.1083663425831806)\n",
      "(a_5, b_5) = ( 0.0560184901722137,  0.1026127047112057)\n",
      "(a_6, b_6) = ( 0.1026127047112057,  0.0952728176475110)\n",
      "(a_7, b_7) = ( 0.0952728176475110,  0.0953524926307563)\n",
      "(a_8, b_8) = ( 0.0952728176475110,  0.0953446256779913)\n",
      "(a_9, b_9) = ( 0.0953446256779913,  0.0953446172002587)\n",
      "(a_10, b_10) = ( 0.0953446172002587,  0.0953446172002587)\n",
      "\n"
     ]
    },
    {
     "data": {
      "text/plain": [
       "false"
      ]
     },
     "execution_count": 20,
     "metadata": {},
     "output_type": "execute_result"
    }
   ],
   "source": [
    "f(x) = exp(x) - 1 / (10 * x)^2\n",
    "falsePos(f)"
   ]
  },
  {
   "cell_type": "code",
   "execution_count": 21,
   "metadata": {},
   "outputs": [
    {
     "name": "stdout",
     "output_type": "stream",
     "text": [
      "Results of univariate zero finding:\n",
      "\n",
      "* Converged to: 0.09534461720025875\n",
      "* Algorithm: Roots.Newton()\n",
      "* iterations: 12\n",
      "* function evaluations: 13\n",
      "* stopped as |f(x_n)| ≤ max(δ, max(1,|x|)⋅ϵ) using δ = atol, ϵ = rtol\n",
      "\n",
      "Trace:\n",
      "x_0 =  1.0000000000000000,\t fx_0 =  2.7082818284590453\n",
      "x_1 =  0.0109557751463742,\t fx_1 = -82.3021770135689508\n",
      "x_2 =  0.0163668281703206,\t fx_2 = -36.3146128635807202\n",
      "x_3 =  0.0243256398608997,\t fx_3 = -15.8747826495410624\n",
      "x_4 =  0.0357425993987730,\t fx_4 = -6.7911948818018555\n",
      "x_5 =  0.0512110988138948,\t fx_5 = -2.7604988902413998\n",
      "x_6 =  0.0696184383344935,\t fx_6 = -0.9911490308380873\n",
      "x_7 =  0.0860431103246579,\t fx_7 = -0.2608743627367076\n",
      "x_8 =  0.0940733775475691,\t fx_8 = -0.0313286339781880\n",
      "x_9 =  0.0953204481237074,\t fx_9 = -0.0005844998265339\n",
      "x_10 =  0.0953446084421468,\t fx_10 = -0.0000002117275979\n",
      "x_11 =  0.0953446172002576,\t fx_11 = -0.0000000000000275\n",
      "x_12 =  0.0953446172002587,\t fx_12 =  0.0000000000000002\n",
      "\n"
     ]
    },
    {
     "data": {
      "text/plain": [
       "false"
      ]
     },
     "execution_count": 21,
     "metadata": {},
     "output_type": "execute_result"
    }
   ],
   "source": [
    "D(f) = x->ForwardDiff.derivative(f, float(x))\n",
    "x = find_zero((f, D(f)),1, Roots.Newton(),verbose=true)\n",
    "iszero(x)"
   ]
  },
  {
   "cell_type": "code",
   "execution_count": 22,
   "metadata": {},
   "outputs": [
    {
     "name": "stdout",
     "output_type": "stream",
     "text": [
      "Results of univariate zero finding:\n",
      "\n",
      "* Converged to: 0.09534461720025875\n",
      "* Algorithm: Roots.Steffensen()\n",
      "* iterations: 12\n",
      "* function evaluations: 25\n",
      "* stopped as |f(x_n)| ≤ max(δ, max(1,|x|)⋅ϵ) using δ = atol, ϵ = rtol\n",
      "\n",
      "Trace:\n",
      "x_0 =  1.0000000000000000,\t fx_0 =  2.7082818284590453\n",
      "x_1 =  0.0109557814987952,\t fx_1 = -82.3020803932597005\n",
      "x_2 =  0.0163668265437359,\t fx_2 = -36.3146202853925288\n",
      "x_3 =  0.0243256266222306,\t fx_3 = -15.8748010573461755\n",
      "x_4 =  0.0357425702905928,\t fx_4 = -6.7912076612939130\n",
      "x_5 =  0.0512110514664949,\t fx_5 = -2.7605059908126011\n",
      "x_6 =  0.0696183796720593,\t fx_6 = -0.9911525708349238\n",
      "x_7 =  0.0860430643820063,\t fx_7 = -0.2608758552485868\n",
      "x_8 =  0.0940733631125225,\t fx_8 = -0.0313289966123482\n",
      "x_9 =  0.0953204472926311,\t fx_9 = -0.0005845199323917\n",
      "x_10 =  0.0953446084361537,\t fx_10 = -0.0000002118724831\n",
      "x_11 =  0.0953446172002556,\t fx_11 = -0.0000000000000751\n",
      "x_12 =  0.0953446172002587,\t fx_12 =  0.0000000000000002\n",
      "\n"
     ]
    },
    {
     "data": {
      "text/plain": [
       "false"
      ]
     },
     "execution_count": 22,
     "metadata": {},
     "output_type": "execute_result"
    }
   ],
   "source": [
    "x = find_zero(f, 1, Order2(), verbose=true)\n",
    "iszero(f(x))"
   ]
  },
  {
   "cell_type": "code",
   "execution_count": 23,
   "metadata": {},
   "outputs": [
    {
     "data": {
      "text/html": [
       "<table class=\"data-frame\"><thead><tr><th></th><th>f</th><th>method</th><th>iterations</th><th>calls</th><th>iszero</th></tr><tr><th></th><th>String</th><th>String</th><th>Int64</th><th>Int64</th><th>Bool</th></tr></thead><tbody></tbody></table>"
      ],
      "text/plain": [
       "0×5 DataFrame\n"
      ]
     },
     "execution_count": 23,
     "metadata": {},
     "output_type": "execute_result"
    }
   ],
   "source": [
    "using DataFrames\n",
    "df = DataFrame(f=String[], method=String[], iterations=Int64[], calls=Int64[], iszero=Bool[])"
   ]
  },
  {
   "cell_type": "code",
   "execution_count": 24,
   "metadata": {},
   "outputs": [
    {
     "data": {
      "text/html": [
       "<table class=\"data-frame\"><thead><tr><th></th><th>f</th><th>method</th><th>iterations</th><th>calls</th><th>iszero</th></tr><tr><th></th><th>String</th><th>String</th><th>Int64</th><th>Int64</th><th>Bool</th></tr></thead><tbody><tr><th>1</th><td>x^3</td><td>FalsePosition</td><td>17</td><td>19</td><td>false</td></tr><tr><th>2</th><td>x^3</td><td>Newton</td><td>0</td><td>1</td><td>true</td></tr><tr><th>3</th><td>x^3</td><td>Steffensen</td><td>0</td><td>1</td><td>true</td></tr><tr><th>4</th><td>cos(x)-x</td><td>FalsePosition</td><td>7</td><td>9</td><td>false</td></tr><tr><th>5</th><td>cos(x)-x</td><td>Newton</td><td>5</td><td>6</td><td>true</td></tr><tr><th>6</th><td>cos(x)-x</td><td>Steffensen</td><td>5</td><td>11</td><td>true</td></tr><tr><th>7</th><td>(x+3)*(x-1)^2</td><td>FalsePosition</td><td>0</td><td>2</td><td>true</td></tr><tr><th>8</th><td>(x+3)*(x-1)^2</td><td>Newton</td><td>26</td><td>27</td><td>false</td></tr><tr><th>9</th><td>(x+3)*(x-1)^2</td><td>Steffensen</td><td>26</td><td>53</td><td>false</td></tr><tr><th>10</th><td>(x-1)^7</td><td>FalsePosition</td><td>0</td><td>2</td><td>true</td></tr><tr><th>11</th><td>(x-1)^7</td><td>Newton</td><td>33</td><td>34</td><td>false</td></tr><tr><th>12</th><td>(x-1)^7</td><td>Steffensen</td><td>33</td><td>67</td><td>false</td></tr><tr><th>13</th><td>x^3-2*x-5</td><td>FalsePosition</td><td>9</td><td>11</td><td>false</td></tr><tr><th>14</th><td>x^3-2*x-5</td><td>Newton</td><td>19</td><td>20</td><td>false</td></tr><tr><th>15</th><td>x^3-2*x-5</td><td>Steffensen</td><td>19</td><td>39</td><td>false</td></tr><tr><th>16</th><td>exp(x)-1/(10*x)^2</td><td>FalsePosition</td><td>10</td><td>12</td><td>false</td></tr><tr><th>17</th><td>exp(x)-1/(10*x)^2</td><td>Newton</td><td>12</td><td>13</td><td>false</td></tr><tr><th>18</th><td>exp(x)-1/(10*x)^2</td><td>Steffensen</td><td>12</td><td>25</td><td>false</td></tr></tbody></table>"
      ],
      "text/plain": [
       "18×5 DataFrame\n",
       "│ Row │ f                 │ method        │ iterations │ calls │ iszero │\n",
       "│     │ \u001b[90mString\u001b[39m            │ \u001b[90mString\u001b[39m        │ \u001b[90mInt64\u001b[39m      │ \u001b[90mInt64\u001b[39m │ \u001b[90mBool\u001b[39m   │\n",
       "├─────┼───────────────────┼───────────────┼────────────┼───────┼────────┤\n",
       "│ 1   │ x^3               │ FalsePosition │ 17         │ 19    │ false  │\n",
       "│ 2   │ x^3               │ Newton        │ 0          │ 1     │ true   │\n",
       "│ 3   │ x^3               │ Steffensen    │ 0          │ 1     │ true   │\n",
       "│ 4   │ cos(x)-x          │ FalsePosition │ 7          │ 9     │ false  │\n",
       "│ 5   │ cos(x)-x          │ Newton        │ 5          │ 6     │ true   │\n",
       "│ 6   │ cos(x)-x          │ Steffensen    │ 5          │ 11    │ true   │\n",
       "│ 7   │ (x+3)*(x-1)^2     │ FalsePosition │ 0          │ 2     │ true   │\n",
       "│ 8   │ (x+3)*(x-1)^2     │ Newton        │ 26         │ 27    │ false  │\n",
       "│ 9   │ (x+3)*(x-1)^2     │ Steffensen    │ 26         │ 53    │ false  │\n",
       "│ 10  │ (x-1)^7           │ FalsePosition │ 0          │ 2     │ true   │\n",
       "│ 11  │ (x-1)^7           │ Newton        │ 33         │ 34    │ false  │\n",
       "│ 12  │ (x-1)^7           │ Steffensen    │ 33         │ 67    │ false  │\n",
       "│ 13  │ x^3-2*x-5         │ FalsePosition │ 9          │ 11    │ false  │\n",
       "│ 14  │ x^3-2*x-5         │ Newton        │ 19         │ 20    │ false  │\n",
       "│ 15  │ x^3-2*x-5         │ Steffensen    │ 19         │ 39    │ false  │\n",
       "│ 16  │ exp(x)-1/(10*x)^2 │ FalsePosition │ 10         │ 12    │ false  │\n",
       "│ 17  │ exp(x)-1/(10*x)^2 │ Newton        │ 12         │ 13    │ false  │\n",
       "│ 18  │ exp(x)-1/(10*x)^2 │ Steffensen    │ 12         │ 25    │ false  │"
      ]
     },
     "execution_count": 24,
     "metadata": {},
     "output_type": "execute_result"
    }
   ],
   "source": [
    "push!(df, [\"x^3\", \"FalsePosition\", 17, 19, false])\n",
    "push!(df, [\"x^3\", \"Newton\", 0, 1, true])\n",
    "push!(df, [\"x^3\", \"Steffensen\", 0, 1, true])\n",
    "\n",
    "push!(df, [\"cos(x)-x\", \"FalsePosition\", 7, 9, false])\n",
    "push!(df, [\"cos(x)-x\", \"Newton\", 5, 6, true])\n",
    "push!(df, [\"cos(x)-x\", \"Steffensen\", 5, 11, true])\n",
    "\n",
    "push!(df, [\"(x+3)*(x-1)^2\", \"FalsePosition\", 0, 2, true])\n",
    "push!(df, [\"(x+3)*(x-1)^2\", \"Newton\", 26, 27, false])\n",
    "push!(df, [\"(x+3)*(x-1)^2\", \"Steffensen\", 26, 53, false])\n",
    "\n",
    "push!(df, [\"(x-1)^7\", \"FalsePosition\", 0, 2, true])\n",
    "push!(df, [\"(x-1)^7\", \"Newton\", 33, 34, false])\n",
    "push!(df, [\"(x-1)^7\", \"Steffensen\", 33, 67, false])\n",
    "\n",
    "push!(df, [\"x^3-2*x-5\", \"FalsePosition\", 9, 11, false])\n",
    "push!(df, [\"x^3-2*x-5\", \"Newton\", 19, 20, false])\n",
    "push!(df, [\"x^3-2*x-5\", \"Steffensen\", 19, 39, false])\n",
    "\n",
    "push!(df, [\"exp(x)-1/(10*x)^2\", \"FalsePosition\", 10, 12, false])\n",
    "push!(df, [\"exp(x)-1/(10*x)^2\", \"Newton\", 12, 13, false])\n",
    "\n",
    "push!(df, [\"exp(x)-1/(10*x)^2\", \"Steffensen\", 12, 25, false])"
   ]
  },
  {
   "cell_type": "code",
   "execution_count": 57,
   "metadata": {},
   "outputs": [
    {
     "name": "stdout",
     "output_type": "stream",
     "text": [
      "Results of univariate zero finding:\n",
      "\n",
      "* Converged to: 1.0076130854140593\n",
      "* Algorithm: FalsePosition{:anderson_bjork}()\n",
      "* iterations: 41\n",
      "* function evaluations: 43\n",
      "* Note: Too many steps taken. \n",
      "\tAlgorithm stopped early, but |f(xn)| < ϵ^(1/3), where ϵ depends on xn, rtol, and atol. \n",
      "\n",
      "Trace:\n",
      "(a_0, b_0) = ( 0.0000000000000000,  3.0000000000000000)\n",
      "(a_1, b_1) = ( 0.0000000000000000,  1.5000000000000000)\n",
      "(a_2, b_2) = ( 0.0000000000000000,  1.4882812500000000)\n",
      "(a_3, b_3) = ( 0.0000000000000000,  1.4261014796196911)\n",
      "(a_4, b_4) = ( 0.0000000000000000,  1.3881493165549796)\n",
      "(a_5, b_5) = ( 0.0000000000000000,  1.3481432113576357)\n",
      "(a_6, b_6) = ( 0.0000000000000000,  1.3139796869091716)\n",
      "(a_7, b_7) = ( 0.0000000000000000,  1.2825390644427042)\n",
      "(a_8, b_8) = ( 0.0000000000000000,  1.2544036842197794)\n",
      "(a_9, b_9) = ( 0.0000000000000000,  1.2289733732043260)\n",
      "(a_10, b_10) = ( 0.0000000000000000,  1.2060797067305131)\n",
      "(a_11, b_11) = ( 0.0000000000000000,  1.1854449811557353)\n",
      "(a_12, b_12) = ( 0.0000000000000000,  1.1668596710710006)\n",
      "(a_13, b_13) = ( 0.0000000000000000,  1.1501200914341225)\n",
      "(a_14, b_14) = ( 0.0000000000000000,  1.1350467020337771)\n",
      "(a_15, b_15) = ( 0.0000000000000000,  1.1214755389206734)\n",
      "(a_16, b_16) = ( 0.0000000000000000,  1.1092589171997453)\n",
      "(a_17, b_17) = ( 0.0000000000000000,  1.0982631957114508)\n",
      "(a_18, b_18) = ( 0.0000000000000000,  1.0883677142389059)\n",
      "(a_19, b_19) = ( 0.0000000000000000,  1.0794634948776642)\n",
      "(a_20, b_20) = ( 0.0000000000000000,  1.0714521718232930)\n",
      "(a_21, b_21) = ( 0.0000000000000000,  1.0642449789578905)\n",
      "(a_22, b_22) = ( 0.0000000000000000,  1.0577618418448427)\n",
      "(a_23, b_23) = ( 0.0000000000000000,  1.0519305476707599)\n",
      "(a_24, b_24) = ( 0.0000000000000000,  1.0466859925106593)\n",
      "(a_25, b_25) = ( 0.0000000000000000,  1.0419694972455498)\n",
      "(a_26, b_26) = ( 0.0000000000000000,  1.0377281869304817)\n",
      "(a_27, b_27) = ( 0.0000000000000000,  1.0339144278710559)\n",
      "(a_28, b_28) = ( 0.0000000000000000,  1.0304853174474515)\n",
      "(a_29, b_29) = ( 0.0000000000000000,  1.0274022220061345)\n",
      "(a_30, b_30) = ( 0.0000000000000000,  1.0246303585517254)\n",
      "(a_31, b_31) = ( 0.0000000000000000,  1.0221384163023295)\n",
      "(a_32, b_32) = ( 0.0000000000000000,  1.0198982144974060)\n",
      "(a_33, b_33) = ( 0.0000000000000000,  1.0178843931441477)\n",
      "(a_34, b_34) = ( 0.0000000000000000,  1.0160741336665822)\n",
      "(a_35, b_35) = ( 0.0000000000000000,  1.0144469066793425)\n",
      "(a_36, b_36) = ( 0.0000000000000000,  1.0129842443473540)\n",
      "(a_37, b_37) = ( 0.0000000000000000,  1.0116695350142240)\n",
      "(a_38, b_38) = ( 0.0000000000000000,  1.0104878379868731)\n",
      "(a_39, b_39) = ( 0.0000000000000000,  1.0094257165528657)\n",
      "(a_40, b_40) = ( 0.0000000000000000,  1.0084710874808107)\n",
      "(a_41, b_41) = ( 0.0000000000000000,  1.0076130854140593)\n",
      "\n"
     ]
    },
    {
     "data": {
      "text/plain": [
       "false"
      ]
     },
     "execution_count": 57,
     "metadata": {},
     "output_type": "execute_result"
    }
   ],
   "source": [
    "f(x) = (x-1)^7\n",
    "x = find_zero(f, (0, 3), FalsePosition(), verbose=true)\n",
    "iszero(f(x))"
   ]
  },
  {
   "cell_type": "code",
   "execution_count": 37,
   "metadata": {},
   "outputs": [
    {
     "name": "stdout",
     "output_type": "stream",
     "text": [
      "Results of univariate zero finding:\n",
      "\n",
      "* Convergence failed: Too many steps taken. \n",
      "* Algorithm Roots.Newton()\n",
      "\n",
      "Trace:\n",
      "x_0 =  0.0010000000000000,\t fx_0 = -4.9992500000000000\n",
      "x_1 =  6.6666666666666670,\t fx_1 =  0.6250000000000002\n",
      "x_2 =  5.8333333333333330,\t fx_2 = -0.6250000000000002\n",
      "x_3 =  6.6666666666666670,\t fx_3 =  0.6250000000000002\n",
      "x_4 =  5.8333333333333330,\t fx_4 = -0.6250000000000002\n",
      "x_5 =  6.6666666666666670,\t fx_5 =  0.6250000000000002\n",
      "x_6 =  5.8333333333333330,\t fx_6 = -0.6250000000000002\n",
      "x_7 =  6.6666666666666670,\t fx_7 =  0.6250000000000002\n",
      "x_8 =  5.8333333333333330,\t fx_8 = -0.6250000000000002\n",
      "x_9 =  6.6666666666666670,\t fx_9 =  0.6250000000000002\n",
      "x_10 =  5.8333333333333330,\t fx_10 = -0.6250000000000002\n",
      "x_11 =  6.6666666666666670,\t fx_11 =  0.6250000000000002\n",
      "x_12 =  5.8333333333333330,\t fx_12 = -0.6250000000000002\n",
      "x_13 =  6.6666666666666670,\t fx_13 =  0.6250000000000002\n",
      "x_14 =  5.8333333333333330,\t fx_14 = -0.6250000000000002\n",
      "x_15 =  6.6666666666666670,\t fx_15 =  0.6250000000000002\n",
      "x_16 =  5.8333333333333330,\t fx_16 = -0.6250000000000002\n",
      "x_17 =  6.6666666666666670,\t fx_17 =  0.6250000000000002\n",
      "x_18 =  5.8333333333333330,\t fx_18 = -0.6250000000000002\n",
      "x_19 =  6.6666666666666670,\t fx_19 =  0.6250000000000002\n",
      "x_20 =  5.8333333333333330,\t fx_20 = -0.6250000000000002\n",
      "x_21 =  6.6666666666666670,\t fx_21 =  0.6250000000000002\n",
      "x_22 =  5.8333333333333330,\t fx_22 = -0.6250000000000002\n",
      "x_23 =  6.6666666666666670,\t fx_23 =  0.6250000000000002\n",
      "x_24 =  5.8333333333333330,\t fx_24 = -0.6250000000000002\n",
      "x_25 =  6.6666666666666670,\t fx_25 =  0.6250000000000002\n",
      "x_26 =  5.8333333333333330,\t fx_26 = -0.6250000000000002\n",
      "x_27 =  6.6666666666666670,\t fx_27 =  0.6250000000000002\n",
      "x_28 =  5.8333333333333330,\t fx_28 = -0.6250000000000002\n",
      "x_29 =  6.6666666666666670,\t fx_29 =  0.6250000000000002\n",
      "x_30 =  5.8333333333333330,\t fx_30 = -0.6250000000000002\n",
      "x_31 =  6.6666666666666670,\t fx_31 =  0.6250000000000002\n",
      "x_32 =  5.8333333333333330,\t fx_32 = -0.6250000000000002\n",
      "x_33 =  6.6666666666666670,\t fx_33 =  0.6250000000000002\n",
      "x_34 =  5.8333333333333330,\t fx_34 = -0.6250000000000002\n",
      "x_35 =  6.6666666666666670,\t fx_35 =  0.6250000000000002\n",
      "x_36 =  5.8333333333333330,\t fx_36 = -0.6250000000000002\n",
      "x_37 =  6.6666666666666670,\t fx_37 =  0.6250000000000002\n",
      "x_38 =  5.8333333333333330,\t fx_38 = -0.6250000000000002\n",
      "x_39 =  6.6666666666666670,\t fx_39 =  0.6250000000000002\n",
      "x_40 =  5.8333333333333330,\t fx_40 = -0.6250000000000002\n",
      "x_41 =  6.6666666666666670,\t fx_41 =  0.6250000000000002\n",
      "\n"
     ]
    },
    {
     "ename": "Roots.ConvergenceFailed",
     "evalue": "Roots.ConvergenceFailed(\"Stopped at: xn = 6.666666666666667\")",
     "output_type": "error",
     "traceback": [
      "Roots.ConvergenceFailed(\"Stopped at: xn = 6.666666666666667\")",
      "",
      "Stacktrace:",
      " [1] #_find_zero#5(::Roots.NullTracks, ::Bool, ::Base.Iterators.Pairs{Union{},Union{},Tuple{},NamedTuple{(),Tuple{}}}, ::Function, ::Roots.FirstDerivative, ::Float64, ::Roots.Newton, ::Nothing) at /home/kamil/.julia/packages/Roots/hYq0I/src/find_zero.jl:560",
      " [2] #find_zero#4 at ./none:0 [inlined]",
      " [3] #find_zero at ./none:0 [inlined] (repeats 2 times)",
      " [4] top-level scope at In[37]:11"
     ]
    }
   ],
   "source": [
    "function f(x)\n",
    "    if ( x < 6.0 )\n",
    "        fx = 0.75 * ( x - 6.25 ) - 0.3125\n",
    "    elseif ( x <= 6.50 )\n",
    "        fx = 2.00 * ( x - 6.25 )\n",
    "    else\n",
    "        fx = 0.75 * ( x - 6.25 ) + 0.3125\n",
    "    end\n",
    "end\n",
    "    D(f) = x->ForwardDiff.derivative(f, float(x))\n",
    "    x = find_zero((f, D(f)),0.001, Roots.Newton(),verbose=true)\n",
    "    iszero(f(x))"
   ]
  },
  {
   "cell_type": "code",
   "execution_count": 64,
   "metadata": {},
   "outputs": [
    {
     "name": "stdout",
     "output_type": "stream",
     "text": [
      "Results of univariate zero finding:\n",
      "\n",
      "* Converged to: -8.999510577052384\n",
      "* Algorithm: Roots.Steffensen()\n",
      "* iterations: 13\n",
      "* function evaluations: 27\n",
      "* stopped as |f(x_n)| ≤ max(δ, max(1,|x|)⋅ϵ) using δ = atol, ϵ = rtol\n",
      "\n",
      "Trace:\n",
      "x_0 = -1.0000000000000000,\t fx_0 =  0.3578794411714423\n",
      "x_1 = -2.0287455842702942,\t fx_1 =  0.1290707176659449\n",
      "x_2 = -3.0284789176322908,\t fx_2 =  0.0472988738659014\n",
      "x_3 = -4.0207113429103716,\t fx_3 =  0.0173216211370283\n",
      "x_4 = -5.0030801212789457,\t fx_4 =  0.0063177175987093\n",
      "x_5 = -5.9665109344378795,\t fx_5 =  0.0022822641271972\n",
      "x_6 = -6.8908755516697902,\t fx_6 =  0.0008064264767129\n",
      "x_7 = -7.7345063612582230,\t fx_7 =  0.0002703073409693\n",
      "x_8 = -8.4201417226054200,\t fx_8 =  0.0000793372799094\n",
      "x_9 = -8.8446746171011252,\t fx_9 =  0.0000163163083773\n",
      "x_10 = -8.9862581318628543,\t fx_10 =  0.0000012827298578\n",
      "x_11 = -8.9994067156631239,\t fx_11 =  0.0000000099745188\n",
      "x_12 = -8.9995105706274057,\t fx_12 =  0.0000000000006165\n",
      "x_13 = -8.9995105770523836,\t fx_13 = -0.0000000000000005\n",
      "\n"
     ]
    },
    {
     "data": {
      "text/plain": [
       "false"
      ]
     },
     "execution_count": 64,
     "metadata": {},
     "output_type": "execute_result"
    }
   ],
   "source": [
    "f(x) = exp(x)-1/(10*x)^2\n",
    "    x = find_zero(f, -1, Order2(), verbose=true)\n",
    "    iszero(f(x))"
   ]
  },
  {
   "cell_type": "code",
   "execution_count": null,
   "metadata": {},
   "outputs": [],
   "source": []
  }
 ],
 "metadata": {
  "kernelspec": {
   "display_name": "Julia 1.0.1",
   "language": "julia",
   "name": "julia-1.0"
  },
  "language_info": {
   "file_extension": ".jl",
   "mimetype": "application/julia",
   "name": "julia",
   "version": "1.0.1"
  }
 },
 "nbformat": 4,
 "nbformat_minor": 2
}
