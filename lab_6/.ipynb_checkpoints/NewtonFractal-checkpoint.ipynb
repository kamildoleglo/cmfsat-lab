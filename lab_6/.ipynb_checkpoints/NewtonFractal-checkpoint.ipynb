{
 "cells": [
  {
   "cell_type": "code",
   "execution_count": 1,
   "metadata": {},
   "outputs": [],
   "source": [
    "using Images, FileIO\n",
    "imgx = 2048 \n",
    "imgy = 2048\n",
    "image = Array{RGB{Float64}}(undef, imgy, imgx)\n",
    "\n",
    "# drawing area\n",
    "xa = -1.0\n",
    "xb = 1.0\n",
    "ya = -1.0\n",
    "yb = 1.0\n",
    "\n",
    "maxIt = 20 # max iterations allowed\n",
    "h = 1e-6 # step size for numerical derivative\n",
    "eps = 1e-3 # max error allowed\n",
    "\n",
    "function f(x)\n",
    "    x^3-1\n",
    "end\n",
    "\n",
    "for y in 1:imgy\n",
    "    zy = y * (yb - ya) / (imgy - 1) + ya\n",
    "    for x in 1:imgx\n",
    "        zx = x * (xb - xa) / (imgx - 1) + xa\n",
    "        z = complex(zx, zy)\n",
    "        local i\n",
    "        for j in 1:maxIt\n",
    "            i=j\n",
    "            dz = (f(z + complex(h, h)) - f(z)) / complex(h, h)\n",
    "            z0 = z - f(z) / dz # Newton iteration\n",
    "            if abs(z0 - z) < eps \n",
    "                break\n",
    "            end\n",
    "            z = z0\n",
    "        end\n",
    "        image[y,x] = RGB{Float64}((i % 4 * 64)/256.0, (i % 8 * 32)/256.0, (i % 16 * 16)/256.0)\n",
    "    end\n",
    "end\n",
    "save(\"x^3-1.png\", image)"
   ]
  },
  {
   "cell_type": "code",
   "execution_count": null,
   "metadata": {},
   "outputs": [],
   "source": []
  }
 ],
 "metadata": {
  "kernelspec": {
   "display_name": "Julia 1.0.1",
   "language": "julia",
   "name": "julia-1.0"
  },
  "language_info": {
   "file_extension": ".jl",
   "mimetype": "application/julia",
   "name": "julia",
   "version": "1.0.1"
  }
 },
 "nbformat": 4,
 "nbformat_minor": 2
}
