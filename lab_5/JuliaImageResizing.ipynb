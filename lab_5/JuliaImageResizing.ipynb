{
 "cells": [
  {
   "cell_type": "code",
   "execution_count": 30,
   "metadata": {},
   "outputs": [],
   "source": [
    "using Images, FileIO, Interpolations\n",
    " \n",
    "function enlarge_bilinear(A::Matrix, factor::AbstractFloat)\n",
    "    lx, ly = size(A)\n",
    "    nx, ny = round.(Int, factor .* (lx, ly))\n",
    "    vx, vy = range(1, stop=lx, length=nx), range(1, stop=ly, length=ny)\n",
    "    itp = interpolate(A, BSpline(Linear()))\n",
    "    return itp(vx, vy)\n",
    "end\n",
    " \n",
    "A = load(\"sample1.jpg\") |> Matrix{RGB{Float64}};\n",
    "Alarge = enlarge_bilinear(A, 2.0);\n",
    "save(\"sample_bilinear.jpg\", Alarge)"
   ]
  },
  {
   "cell_type": "code",
   "execution_count": 31,
   "metadata": {},
   "outputs": [],
   "source": [
    "function enlarge_bicubic(A::Matrix, factor::AbstractFloat)\n",
    "    lx, ly = size(A)\n",
    "    nx, ny = round.(Int, factor .* (lx, ly))\n",
    "    vx, vy = range(1, stop=lx, length=nx), range(1, stop=ly, length=ny)\n",
    "    itp = interpolate(A, BSpline(Cubic(Flat(OnGrid()))))\n",
    "    return map(clamp01nan, itp(vx, vy))\n",
    "end\n",
    " \n",
    "A = load(\"sample1.jpg\") |> Matrix{RGB{Float64}};\n",
    "Alarge = enlarge_bicubic(A, 2.0);\n",
    "save(\"sample_bicubic.jpg\", Alarge)"
   ]
  },
  {
   "cell_type": "code",
   "execution_count": null,
   "metadata": {},
   "outputs": [],
   "source": []
  }
 ],
 "metadata": {
  "kernelspec": {
   "display_name": "Julia 1.0.1",
   "language": "julia",
   "name": "julia-1.0"
  },
  "language_info": {
   "file_extension": ".jl",
   "mimetype": "application/julia",
   "name": "julia",
   "version": "1.0.1"
  }
 },
 "nbformat": 4,
 "nbformat_minor": 2
}
