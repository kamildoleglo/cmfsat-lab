{
 "cells": [
  {
   "cell_type": "code",
   "execution_count": 10,
   "metadata": {},
   "outputs": [
    {
     "data": {
      "text/plain": [
       "1000-element Array{Float64,1}:\n",
       " 250.21290353247244\n",
       " 236.80745662021513\n",
       " 253.24246152361866\n",
       " 249.6505593011058 \n",
       " 251.22713654512023\n",
       " 246.27151004649696\n",
       " 255.87583661504218\n",
       " 262.9690061064474 \n",
       " 239.82587902347186\n",
       " 254.12931269720474\n",
       " 251.82374008391284\n",
       " 256.4789353307981 \n",
       " 250.7137226125537 \n",
       "   ⋮               \n",
       " 253.61103781187384\n",
       " 255.26018718806466\n",
       " 252.7416731341654 \n",
       " 255.76395858882927\n",
       " 250.57930576562165\n",
       " 256.0542364439174 \n",
       " 249.39957646348319\n",
       " 254.11458890902392\n",
       " 252.90706775334124\n",
       " 246.12057072969108\n",
       " 248.91406070960798\n",
       " 249.26301654893638"
      ]
     },
     "execution_count": 10,
     "metadata": {},
     "output_type": "execute_result"
    }
   ],
   "source": [
    "using LinearAlgebra\n",
    "x = rand(1000)\n",
    "A = rand(1000, 1000)\n",
    "b = A*x"
   ]
  },
  {
   "cell_type": "code",
   "execution_count": 11,
   "metadata": {},
   "outputs": [
    {
     "data": {
      "text/plain": [
       "1000-element Array{Float64,1}:\n",
       " 0.4921510177180579  \n",
       " 0.36090487931789994 \n",
       " 0.9103203804605187  \n",
       " 0.34914916302028587 \n",
       " 0.5819173905378534  \n",
       " 0.7427370012094912  \n",
       " 0.18466378494687774 \n",
       " 0.8067421103276757  \n",
       " 0.6498236437107607  \n",
       " 0.8683326309538568  \n",
       " 0.816843894941826   \n",
       " 0.16482083278475557 \n",
       " 0.5524539234250483  \n",
       " ⋮                   \n",
       " 0.7746898492181629  \n",
       " 0.5563619050580115  \n",
       " 0.14632947594407142 \n",
       " 0.4134063974080391  \n",
       " 0.9929793912636455  \n",
       " 0.47387168576386784 \n",
       " 0.6709678562847756  \n",
       " 0.9750736369213087  \n",
       " 0.020593047910239193\n",
       " 0.8957181064608903  \n",
       " 0.3052578080198338  \n",
       " 0.972792700654459   "
      ]
     },
     "execution_count": 11,
     "metadata": {},
     "output_type": "execute_result"
    }
   ],
   "source": [
    "inv_solve(A::Array{}, b::Array{}) = inv(A) * b\n",
    "inv_solve(A,b)"
   ]
  },
  {
   "cell_type": "code",
   "execution_count": 12,
   "metadata": {},
   "outputs": [
    {
     "data": {
      "text/plain": [
       "1000-element Array{Float64,1}:\n",
       " 0.49215101771771835 \n",
       " 0.36090487931650755 \n",
       " 0.910320380459709   \n",
       " 0.3491491630210104  \n",
       " 0.5819173905371828  \n",
       " 0.7427370012088935  \n",
       " 0.1846637849456781  \n",
       " 0.806742110327979   \n",
       " 0.6498236437103975  \n",
       " 0.8683326309542977  \n",
       " 0.8168438949417655  \n",
       " 0.16482083278203985 \n",
       " 0.5524539234249808  \n",
       " ⋮                   \n",
       " 0.7746898492185526  \n",
       " 0.5563619050591121  \n",
       " 0.14632947594245965 \n",
       " 0.41340639740914337 \n",
       " 0.9929793912629344  \n",
       " 0.47387168576462246 \n",
       " 0.6709678562847605  \n",
       " 0.9750736369163028  \n",
       " 0.020593047909571918\n",
       " 0.8957181064605495  \n",
       " 0.30525780802150043 \n",
       " 0.9727927006537385  "
      ]
     },
     "execution_count": 12,
     "metadata": {},
     "output_type": "execute_result"
    }
   ],
   "source": [
    "op_solve(A::Array{}, b::Array{}) = A\\b\n",
    "op_solve(A,b)"
   ]
  },
  {
   "cell_type": "code",
   "execution_count": 13,
   "metadata": {},
   "outputs": [
    {
     "data": {
      "text/plain": [
       "1000-element Array{Float64,1}:\n",
       " 0.49215101771771835 \n",
       " 0.36090487931650755 \n",
       " 0.910320380459709   \n",
       " 0.3491491630210104  \n",
       " 0.5819173905371828  \n",
       " 0.7427370012088935  \n",
       " 0.1846637849456781  \n",
       " 0.806742110327979   \n",
       " 0.6498236437103975  \n",
       " 0.8683326309542977  \n",
       " 0.8168438949417655  \n",
       " 0.16482083278203985 \n",
       " 0.5524539234249808  \n",
       " ⋮                   \n",
       " 0.7746898492185526  \n",
       " 0.5563619050591121  \n",
       " 0.14632947594245965 \n",
       " 0.41340639740914337 \n",
       " 0.9929793912629344  \n",
       " 0.47387168576462246 \n",
       " 0.6709678562847605  \n",
       " 0.9750736369163028  \n",
       " 0.020593047909571918\n",
       " 0.8957181064605495  \n",
       " 0.30525780802150043 \n",
       " 0.9727927006537385  "
      ]
     },
     "execution_count": 13,
     "metadata": {},
     "output_type": "execute_result"
    }
   ],
   "source": [
    "function fact_solve(A::Array{}, b::Array{})\n",
    "    A_f = factorize(A)\n",
    "    A_f\\b\n",
    "end\n",
    "fact_solve(A,b)"
   ]
  },
  {
   "cell_type": "code",
   "execution_count": 33,
   "metadata": {},
   "outputs": [
    {
     "name": "stdout",
     "output_type": "stream",
     "text": [
      "  0.140959 seconds (11 allocations: 8.134 MiB)\n",
      "  0.031948 seconds (9 allocations: 7.645 MiB)\n",
      "  0.033988 seconds (9 allocations: 7.645 MiB, 5.60% gc time)\n",
      "Inv function: 18.48429587633509\n",
      "'\\' operator: 18.48429587633455\n",
      "Factorize:    18.48429587633455\n"
     ]
    }
   ],
   "source": [
    "i = @time inv_solve(A,b)\n",
    "o = @time op_solve(A,b)\n",
    "f = @time fact_solve(A,b)\n",
    "println(\"Inv function: \", sqrt(dot(x,i)))\n",
    "println(\"'\\\\' operator: \", sqrt(dot(x,o)))\n",
    "println(\"Factorize:    \", sqrt(dot(x,f)))"
   ]
  },
  {
   "cell_type": "markdown",
   "metadata": {},
   "source": [
    "# Zadanie 2"
   ]
  },
  {
   "cell_type": "code",
   "execution_count": 53,
   "metadata": {},
   "outputs": [
    {
     "data": {
      "text/html": [
       "<table class=\"data-frame\"><thead><tr><th></th><th>METHOD</th><th>SIZE</th><th>MEAN</th><th>DEVIATION</th></tr><tr><th></th><th>String⍰</th><th>Int64⍰</th><th>Float64</th><th>Float64</th></tr></thead><tbody><tr><th>1</th><td>BLAS</td><td>100</td><td>0.0008845</td><td>5.22627e-5</td></tr><tr><th>2</th><td>BLAS</td><td>200</td><td>0.0085363</td><td>0.00213989</td></tr><tr><th>3</th><td>BLAS</td><td>300</td><td>0.0250635</td><td>0.00135516</td></tr><tr><th>4</th><td>BLAS</td><td>400</td><td>0.0587969</td><td>0.00725045</td></tr><tr><th>5</th><td>BLAS</td><td>500</td><td>0.111627</td><td>0.00133013</td></tr><tr><th>6</th><td>BLAS</td><td>600</td><td>0.22665</td><td>0.00279368</td></tr><tr><th>7</th><td>BLAS</td><td>700</td><td>0.411574</td><td>0.0143077</td></tr><tr><th>8</th><td>BLAS</td><td>800</td><td>0.737966</td><td>0.0368204</td></tr><tr><th>9</th><td>BLAS</td><td>900</td><td>1.08643</td><td>0.0385133</td></tr><tr><th>10</th><td>BLAS</td><td>1000</td><td>1.49628</td><td>0.085475</td></tr></tbody></table>"
      ],
      "text/plain": [
       "10×4 DataFrame\n",
       "│ Row │ METHOD  │ SIZE   │ MEAN      │ DEVIATION  │\n",
       "│     │ \u001b[90mString⍰\u001b[39m │ \u001b[90mInt64⍰\u001b[39m │ \u001b[90mFloat64\u001b[39m   │ \u001b[90mFloat64\u001b[39m    │\n",
       "├─────┼─────────┼────────┼───────────┼────────────┤\n",
       "│ 1   │ BLAS    │ 100    │ 0.0008845 │ 5.22627e-5 │\n",
       "│ 2   │ BLAS    │ 200    │ 0.0085363 │ 0.00213989 │\n",
       "│ 3   │ BLAS    │ 300    │ 0.0250635 │ 0.00135516 │\n",
       "│ 4   │ BLAS    │ 400    │ 0.0587969 │ 0.00725045 │\n",
       "│ 5   │ BLAS    │ 500    │ 0.111627  │ 0.00133013 │\n",
       "│ 6   │ BLAS    │ 600    │ 0.22665   │ 0.00279368 │\n",
       "│ 7   │ BLAS    │ 700    │ 0.411574  │ 0.0143077  │\n",
       "│ 8   │ BLAS    │ 800    │ 0.737966  │ 0.0368204  │\n",
       "│ 9   │ BLAS    │ 900    │ 1.08643   │ 0.0385133  │\n",
       "│ 10  │ BLAS    │ 1000   │ 1.49628   │ 0.085475   │"
      ]
     },
     "execution_count": 53,
     "metadata": {},
     "output_type": "execute_result"
    }
   ],
   "source": [
    "using CSV, Plots, Statistics, DataFrames\n",
    "cData = CSV.read(\"results_unoptimized.csv\")\n",
    "cData = by(cData, [:METHOD, :SIZE],  df->DataFrame(MEAN=mean(df[:TIME]), DEVIATION=std(df[:TIME])))\n",
    "cData = cData[cData[:METHOD].== \"BLAS\", :]"
   ]
  },
  {
   "cell_type": "code",
   "execution_count": 56,
   "metadata": {},
   "outputs": [
    {
     "data": {
      "image/svg+xml": [
       "<?xml version=\"1.0\" encoding=\"utf-8\"?>\n",
       "<svg xmlns=\"http://www.w3.org/2000/svg\" xmlns:xlink=\"http://www.w3.org/1999/xlink\" width=\"600\" height=\"400\" viewBox=\"0 0 2400 1600\">\n",
       "<defs>\n",
       "  <clipPath id=\"clip5800\">\n",
       "    <rect x=\"0\" y=\"0\" width=\"2000\" height=\"2000\"/>\n",
       "  </clipPath>\n",
       "</defs>\n",
       "<defs>\n",
       "  <clipPath id=\"clip5801\">\n",
       "    <rect x=\"0\" y=\"0\" width=\"2400\" height=\"1600\"/>\n",
       "  </clipPath>\n",
       "</defs>\n",
       "<polygon clip-path=\"url(#clip5801)\" points=\"\n",
       "0,1600 2400,1600 2400,0 0,0 \n",
       "  \" fill=\"#ffffff\" fill-rule=\"evenodd\" fill-opacity=\"1\"/>\n",
       "<defs>\n",
       "  <clipPath id=\"clip5802\">\n",
       "    <rect x=\"480\" y=\"0\" width=\"1681\" height=\"1600\"/>\n",
       "  </clipPath>\n",
       "</defs>\n",
       "<polygon clip-path=\"url(#clip5801)\" points=\"\n",
       "224.386,1440.48 2321.26,1440.48 2321.26,125.984 224.386,125.984 \n",
       "  \" fill=\"#ffffff\" fill-rule=\"evenodd\" fill-opacity=\"1\"/>\n",
       "<defs>\n",
       "  <clipPath id=\"clip5803\">\n",
       "    <rect x=\"224\" y=\"125\" width=\"2098\" height=\"1315\"/>\n",
       "  </clipPath>\n",
       "</defs>\n",
       "<polyline clip-path=\"url(#clip5803)\" style=\"stroke:#000000; stroke-width:2; stroke-opacity:0.1; fill:none\" points=\"\n",
       "  503.53,1440.48 503.53,125.984 \n",
       "  \"/>\n",
       "<polyline clip-path=\"url(#clip5803)\" style=\"stroke:#000000; stroke-width:2; stroke-opacity:0.1; fill:none\" points=\"\n",
       "  943.126,1440.48 943.126,125.984 \n",
       "  \"/>\n",
       "<polyline clip-path=\"url(#clip5803)\" style=\"stroke:#000000; stroke-width:2; stroke-opacity:0.1; fill:none\" points=\"\n",
       "  1382.72,1440.48 1382.72,125.984 \n",
       "  \"/>\n",
       "<polyline clip-path=\"url(#clip5803)\" style=\"stroke:#000000; stroke-width:2; stroke-opacity:0.1; fill:none\" points=\"\n",
       "  1822.32,1440.48 1822.32,125.984 \n",
       "  \"/>\n",
       "<polyline clip-path=\"url(#clip5803)\" style=\"stroke:#000000; stroke-width:2; stroke-opacity:0.1; fill:none\" points=\"\n",
       "  2261.91,1440.48 2261.91,125.984 \n",
       "  \"/>\n",
       "<polyline clip-path=\"url(#clip5803)\" style=\"stroke:#000000; stroke-width:2; stroke-opacity:0.1; fill:none\" points=\"\n",
       "  224.386,1403.93 2321.26,1403.93 \n",
       "  \"/>\n",
       "<polyline clip-path=\"url(#clip5803)\" style=\"stroke:#000000; stroke-width:2; stroke-opacity:0.1; fill:none\" points=\"\n",
       "  224.386,1011.73 2321.26,1011.73 \n",
       "  \"/>\n",
       "<polyline clip-path=\"url(#clip5803)\" style=\"stroke:#000000; stroke-width:2; stroke-opacity:0.1; fill:none\" points=\"\n",
       "  224.386,619.521 2321.26,619.521 \n",
       "  \"/>\n",
       "<polyline clip-path=\"url(#clip5803)\" style=\"stroke:#000000; stroke-width:2; stroke-opacity:0.1; fill:none\" points=\"\n",
       "  224.386,227.315 2321.26,227.315 \n",
       "  \"/>\n",
       "<polyline clip-path=\"url(#clip5801)\" style=\"stroke:#000000; stroke-width:4; stroke-opacity:1; fill:none\" points=\"\n",
       "  224.386,1440.48 2321.26,1440.48 \n",
       "  \"/>\n",
       "<polyline clip-path=\"url(#clip5801)\" style=\"stroke:#000000; stroke-width:4; stroke-opacity:1; fill:none\" points=\"\n",
       "  224.386,1440.48 224.386,125.984 \n",
       "  \"/>\n",
       "<polyline clip-path=\"url(#clip5801)\" style=\"stroke:#000000; stroke-width:4; stroke-opacity:1; fill:none\" points=\"\n",
       "  503.53,1440.48 503.53,1420.77 \n",
       "  \"/>\n",
       "<polyline clip-path=\"url(#clip5801)\" style=\"stroke:#000000; stroke-width:4; stroke-opacity:1; fill:none\" points=\"\n",
       "  943.126,1440.48 943.126,1420.77 \n",
       "  \"/>\n",
       "<polyline clip-path=\"url(#clip5801)\" style=\"stroke:#000000; stroke-width:4; stroke-opacity:1; fill:none\" points=\"\n",
       "  1382.72,1440.48 1382.72,1420.77 \n",
       "  \"/>\n",
       "<polyline clip-path=\"url(#clip5801)\" style=\"stroke:#000000; stroke-width:4; stroke-opacity:1; fill:none\" points=\"\n",
       "  1822.32,1440.48 1822.32,1420.77 \n",
       "  \"/>\n",
       "<polyline clip-path=\"url(#clip5801)\" style=\"stroke:#000000; stroke-width:4; stroke-opacity:1; fill:none\" points=\"\n",
       "  2261.91,1440.48 2261.91,1420.77 \n",
       "  \"/>\n",
       "<polyline clip-path=\"url(#clip5801)\" style=\"stroke:#000000; stroke-width:4; stroke-opacity:1; fill:none\" points=\"\n",
       "  224.386,1403.93 255.839,1403.93 \n",
       "  \"/>\n",
       "<polyline clip-path=\"url(#clip5801)\" style=\"stroke:#000000; stroke-width:4; stroke-opacity:1; fill:none\" points=\"\n",
       "  224.386,1011.73 255.839,1011.73 \n",
       "  \"/>\n",
       "<polyline clip-path=\"url(#clip5801)\" style=\"stroke:#000000; stroke-width:4; stroke-opacity:1; fill:none\" points=\"\n",
       "  224.386,619.521 255.839,619.521 \n",
       "  \"/>\n",
       "<polyline clip-path=\"url(#clip5801)\" style=\"stroke:#000000; stroke-width:4; stroke-opacity:1; fill:none\" points=\"\n",
       "  224.386,227.315 255.839,227.315 \n",
       "  \"/>\n",
       "<g clip-path=\"url(#clip5801)\">\n",
       "<text style=\"fill:#000000; fill-opacity:1; font-family:Arial,Helvetica Neue,Helvetica,sans-serif; font-size:48px; text-anchor:middle;\" transform=\"rotate(0, 503.53, 1494.48)\" x=\"503.53\" y=\"1494.48\">200</text>\n",
       "</g>\n",
       "<g clip-path=\"url(#clip5801)\">\n",
       "<text style=\"fill:#000000; fill-opacity:1; font-family:Arial,Helvetica Neue,Helvetica,sans-serif; font-size:48px; text-anchor:middle;\" transform=\"rotate(0, 943.126, 1494.48)\" x=\"943.126\" y=\"1494.48\">400</text>\n",
       "</g>\n",
       "<g clip-path=\"url(#clip5801)\">\n",
       "<text style=\"fill:#000000; fill-opacity:1; font-family:Arial,Helvetica Neue,Helvetica,sans-serif; font-size:48px; text-anchor:middle;\" transform=\"rotate(0, 1382.72, 1494.48)\" x=\"1382.72\" y=\"1494.48\">600</text>\n",
       "</g>\n",
       "<g clip-path=\"url(#clip5801)\">\n",
       "<text style=\"fill:#000000; fill-opacity:1; font-family:Arial,Helvetica Neue,Helvetica,sans-serif; font-size:48px; text-anchor:middle;\" transform=\"rotate(0, 1822.32, 1494.48)\" x=\"1822.32\" y=\"1494.48\">800</text>\n",
       "</g>\n",
       "<g clip-path=\"url(#clip5801)\">\n",
       "<text style=\"fill:#000000; fill-opacity:1; font-family:Arial,Helvetica Neue,Helvetica,sans-serif; font-size:48px; text-anchor:middle;\" transform=\"rotate(0, 2261.91, 1494.48)\" x=\"2261.91\" y=\"1494.48\">1000</text>\n",
       "</g>\n",
       "<g clip-path=\"url(#clip5801)\">\n",
       "<text style=\"fill:#000000; fill-opacity:1; font-family:Arial,Helvetica Neue,Helvetica,sans-serif; font-size:48px; text-anchor:end;\" transform=\"rotate(0, 200.386, 1421.43)\" x=\"200.386\" y=\"1421.43\">0.0</text>\n",
       "</g>\n",
       "<g clip-path=\"url(#clip5801)\">\n",
       "<text style=\"fill:#000000; fill-opacity:1; font-family:Arial,Helvetica Neue,Helvetica,sans-serif; font-size:48px; text-anchor:end;\" transform=\"rotate(0, 200.386, 1029.23)\" x=\"200.386\" y=\"1029.23\">0.5</text>\n",
       "</g>\n",
       "<g clip-path=\"url(#clip5801)\">\n",
       "<text style=\"fill:#000000; fill-opacity:1; font-family:Arial,Helvetica Neue,Helvetica,sans-serif; font-size:48px; text-anchor:end;\" transform=\"rotate(0, 200.386, 637.021)\" x=\"200.386\" y=\"637.021\">1.0</text>\n",
       "</g>\n",
       "<g clip-path=\"url(#clip5801)\">\n",
       "<text style=\"fill:#000000; fill-opacity:1; font-family:Arial,Helvetica Neue,Helvetica,sans-serif; font-size:48px; text-anchor:end;\" transform=\"rotate(0, 200.386, 244.815)\" x=\"200.386\" y=\"244.815\">1.5</text>\n",
       "</g>\n",
       "<g clip-path=\"url(#clip5801)\">\n",
       "<text style=\"fill:#000000; fill-opacity:1; font-family:Arial,Helvetica Neue,Helvetica,sans-serif; font-size:84px; text-anchor:middle;\" transform=\"rotate(0, 1272.82, 73.2)\" x=\"1272.82\" y=\"73.2\">Matrix multiplication in C</text>\n",
       "</g>\n",
       "<g clip-path=\"url(#clip5801)\">\n",
       "<text style=\"fill:#000000; fill-opacity:1; font-family:Arial,Helvetica Neue,Helvetica,sans-serif; font-size:66px; text-anchor:middle;\" transform=\"rotate(0, 1272.82, 1590.4)\" x=\"1272.82\" y=\"1590.4\">Size</text>\n",
       "</g>\n",
       "<g clip-path=\"url(#clip5801)\">\n",
       "<text style=\"fill:#000000; fill-opacity:1; font-family:Arial,Helvetica Neue,Helvetica,sans-serif; font-size:66px; text-anchor:middle;\" transform=\"rotate(-90, 57.6, 783.233)\" x=\"57.6\" y=\"783.233\">Time [s]</text>\n",
       "</g>\n",
       "<circle clip-path=\"url(#clip5803)\" style=\"fill:#000000; stroke:none; fill-opacity:1\" cx=\"283.732\" cy=\"1403.24\" r=\"18\"/>\n",
       "<circle clip-path=\"url(#clip5803)\" style=\"fill:#ff0000; stroke:none; fill-opacity:1\" cx=\"283.732\" cy=\"1403.24\" r=\"14\"/>\n",
       "<circle clip-path=\"url(#clip5803)\" style=\"fill:#000000; stroke:none; fill-opacity:1\" cx=\"503.53\" cy=\"1397.24\" r=\"18\"/>\n",
       "<circle clip-path=\"url(#clip5803)\" style=\"fill:#ff0000; stroke:none; fill-opacity:1\" cx=\"503.53\" cy=\"1397.24\" r=\"14\"/>\n",
       "<circle clip-path=\"url(#clip5803)\" style=\"fill:#000000; stroke:none; fill-opacity:1\" cx=\"723.328\" cy=\"1384.27\" r=\"18\"/>\n",
       "<circle clip-path=\"url(#clip5803)\" style=\"fill:#ff0000; stroke:none; fill-opacity:1\" cx=\"723.328\" cy=\"1384.27\" r=\"14\"/>\n",
       "<circle clip-path=\"url(#clip5803)\" style=\"fill:#000000; stroke:none; fill-opacity:1\" cx=\"943.126\" cy=\"1357.81\" r=\"18\"/>\n",
       "<circle clip-path=\"url(#clip5803)\" style=\"fill:#ff0000; stroke:none; fill-opacity:1\" cx=\"943.126\" cy=\"1357.81\" r=\"14\"/>\n",
       "<circle clip-path=\"url(#clip5803)\" style=\"fill:#000000; stroke:none; fill-opacity:1\" cx=\"1162.92\" cy=\"1316.37\" r=\"18\"/>\n",
       "<circle clip-path=\"url(#clip5803)\" style=\"fill:#ff0000; stroke:none; fill-opacity:1\" cx=\"1162.92\" cy=\"1316.37\" r=\"14\"/>\n",
       "<circle clip-path=\"url(#clip5803)\" style=\"fill:#000000; stroke:none; fill-opacity:1\" cx=\"1382.72\" cy=\"1226.15\" r=\"18\"/>\n",
       "<circle clip-path=\"url(#clip5803)\" style=\"fill:#ff0000; stroke:none; fill-opacity:1\" cx=\"1382.72\" cy=\"1226.15\" r=\"14\"/>\n",
       "<circle clip-path=\"url(#clip5803)\" style=\"fill:#000000; stroke:none; fill-opacity:1\" cx=\"1602.52\" cy=\"1081.09\" r=\"18\"/>\n",
       "<circle clip-path=\"url(#clip5803)\" style=\"fill:#ff0000; stroke:none; fill-opacity:1\" cx=\"1602.52\" cy=\"1081.09\" r=\"14\"/>\n",
       "<circle clip-path=\"url(#clip5803)\" style=\"fill:#000000; stroke:none; fill-opacity:1\" cx=\"1822.32\" cy=\"825.064\" r=\"18\"/>\n",
       "<circle clip-path=\"url(#clip5803)\" style=\"fill:#ff0000; stroke:none; fill-opacity:1\" cx=\"1822.32\" cy=\"825.064\" r=\"14\"/>\n",
       "<circle clip-path=\"url(#clip5803)\" style=\"fill:#000000; stroke:none; fill-opacity:1\" cx=\"2042.12\" cy=\"551.727\" r=\"18\"/>\n",
       "<circle clip-path=\"url(#clip5803)\" style=\"fill:#ff0000; stroke:none; fill-opacity:1\" cx=\"2042.12\" cy=\"551.727\" r=\"14\"/>\n",
       "<circle clip-path=\"url(#clip5803)\" style=\"fill:#000000; stroke:none; fill-opacity:1\" cx=\"2261.91\" cy=\"230.235\" r=\"18\"/>\n",
       "<circle clip-path=\"url(#clip5803)\" style=\"fill:#ff0000; stroke:none; fill-opacity:1\" cx=\"2261.91\" cy=\"230.235\" r=\"14\"/>\n",
       "<polyline clip-path=\"url(#clip5803)\" style=\"stroke:#ff0000; stroke-width:4; stroke-opacity:1; fill:none\" points=\"\n",
       "  283.732,1403.28 283.732,1403.2 \n",
       "  \"/>\n",
       "<polyline clip-path=\"url(#clip5803)\" style=\"stroke:#ff0000; stroke-width:4; stroke-opacity:1; fill:none\" points=\"\n",
       "  503.53,1398.92 503.53,1395.56 \n",
       "  \"/>\n",
       "<polyline clip-path=\"url(#clip5803)\" style=\"stroke:#ff0000; stroke-width:4; stroke-opacity:1; fill:none\" points=\"\n",
       "  723.328,1385.34 723.328,1383.21 \n",
       "  \"/>\n",
       "<polyline clip-path=\"url(#clip5803)\" style=\"stroke:#ff0000; stroke-width:4; stroke-opacity:1; fill:none\" points=\"\n",
       "  943.126,1363.5 943.126,1352.12 \n",
       "  \"/>\n",
       "<polyline clip-path=\"url(#clip5803)\" style=\"stroke:#ff0000; stroke-width:4; stroke-opacity:1; fill:none\" points=\"\n",
       "  1162.92,1317.41 1162.92,1315.33 \n",
       "  \"/>\n",
       "<polyline clip-path=\"url(#clip5803)\" style=\"stroke:#ff0000; stroke-width:4; stroke-opacity:1; fill:none\" points=\"\n",
       "  1382.72,1228.34 1382.72,1223.95 \n",
       "  \"/>\n",
       "<polyline clip-path=\"url(#clip5803)\" style=\"stroke:#ff0000; stroke-width:4; stroke-opacity:1; fill:none\" points=\"\n",
       "  1602.52,1092.31 1602.52,1069.87 \n",
       "  \"/>\n",
       "<polyline clip-path=\"url(#clip5803)\" style=\"stroke:#ff0000; stroke-width:4; stroke-opacity:1; fill:none\" points=\"\n",
       "  1822.32,853.946 1822.32,796.181 \n",
       "  \"/>\n",
       "<polyline clip-path=\"url(#clip5803)\" style=\"stroke:#ff0000; stroke-width:4; stroke-opacity:1; fill:none\" points=\"\n",
       "  2042.12,581.937 2042.12,521.517 \n",
       "  \"/>\n",
       "<polyline clip-path=\"url(#clip5803)\" style=\"stroke:#ff0000; stroke-width:4; stroke-opacity:1; fill:none\" points=\"\n",
       "  2261.91,297.282 2261.91,163.187 \n",
       "  \"/>\n",
       "<line clip-path=\"url(#clip5803)\" x1=\"303.732\" y1=\"1403.28\" x2=\"263.732\" y2=\"1403.28\" style=\"stroke:#000000; stroke-width:4; stroke-opacity:1\"/>\n",
       "<line clip-path=\"url(#clip5803)\" x1=\"303.732\" y1=\"1403.2\" x2=\"263.732\" y2=\"1403.2\" style=\"stroke:#000000; stroke-width:4; stroke-opacity:1\"/>\n",
       "<line clip-path=\"url(#clip5803)\" x1=\"523.53\" y1=\"1398.92\" x2=\"483.53\" y2=\"1398.92\" style=\"stroke:#000000; stroke-width:4; stroke-opacity:1\"/>\n",
       "<line clip-path=\"url(#clip5803)\" x1=\"523.53\" y1=\"1395.56\" x2=\"483.53\" y2=\"1395.56\" style=\"stroke:#000000; stroke-width:4; stroke-opacity:1\"/>\n",
       "<line clip-path=\"url(#clip5803)\" x1=\"743.328\" y1=\"1385.34\" x2=\"703.328\" y2=\"1385.34\" style=\"stroke:#000000; stroke-width:4; stroke-opacity:1\"/>\n",
       "<line clip-path=\"url(#clip5803)\" x1=\"743.328\" y1=\"1383.21\" x2=\"703.328\" y2=\"1383.21\" style=\"stroke:#000000; stroke-width:4; stroke-opacity:1\"/>\n",
       "<line clip-path=\"url(#clip5803)\" x1=\"963.126\" y1=\"1363.5\" x2=\"923.126\" y2=\"1363.5\" style=\"stroke:#000000; stroke-width:4; stroke-opacity:1\"/>\n",
       "<line clip-path=\"url(#clip5803)\" x1=\"963.126\" y1=\"1352.12\" x2=\"923.126\" y2=\"1352.12\" style=\"stroke:#000000; stroke-width:4; stroke-opacity:1\"/>\n",
       "<line clip-path=\"url(#clip5803)\" x1=\"1182.92\" y1=\"1317.41\" x2=\"1142.92\" y2=\"1317.41\" style=\"stroke:#000000; stroke-width:4; stroke-opacity:1\"/>\n",
       "<line clip-path=\"url(#clip5803)\" x1=\"1182.92\" y1=\"1315.33\" x2=\"1142.92\" y2=\"1315.33\" style=\"stroke:#000000; stroke-width:4; stroke-opacity:1\"/>\n",
       "<line clip-path=\"url(#clip5803)\" x1=\"1402.72\" y1=\"1228.34\" x2=\"1362.72\" y2=\"1228.34\" style=\"stroke:#000000; stroke-width:4; stroke-opacity:1\"/>\n",
       "<line clip-path=\"url(#clip5803)\" x1=\"1402.72\" y1=\"1223.95\" x2=\"1362.72\" y2=\"1223.95\" style=\"stroke:#000000; stroke-width:4; stroke-opacity:1\"/>\n",
       "<line clip-path=\"url(#clip5803)\" x1=\"1622.52\" y1=\"1092.31\" x2=\"1582.52\" y2=\"1092.31\" style=\"stroke:#000000; stroke-width:4; stroke-opacity:1\"/>\n",
       "<line clip-path=\"url(#clip5803)\" x1=\"1622.52\" y1=\"1069.87\" x2=\"1582.52\" y2=\"1069.87\" style=\"stroke:#000000; stroke-width:4; stroke-opacity:1\"/>\n",
       "<line clip-path=\"url(#clip5803)\" x1=\"1842.32\" y1=\"853.946\" x2=\"1802.32\" y2=\"853.946\" style=\"stroke:#000000; stroke-width:4; stroke-opacity:1\"/>\n",
       "<line clip-path=\"url(#clip5803)\" x1=\"1842.32\" y1=\"796.181\" x2=\"1802.32\" y2=\"796.181\" style=\"stroke:#000000; stroke-width:4; stroke-opacity:1\"/>\n",
       "<line clip-path=\"url(#clip5803)\" x1=\"2062.12\" y1=\"581.937\" x2=\"2022.12\" y2=\"581.937\" style=\"stroke:#000000; stroke-width:4; stroke-opacity:1\"/>\n",
       "<line clip-path=\"url(#clip5803)\" x1=\"2062.12\" y1=\"521.517\" x2=\"2022.12\" y2=\"521.517\" style=\"stroke:#000000; stroke-width:4; stroke-opacity:1\"/>\n",
       "<line clip-path=\"url(#clip5803)\" x1=\"2281.91\" y1=\"297.282\" x2=\"2241.91\" y2=\"297.282\" style=\"stroke:#000000; stroke-width:4; stroke-opacity:1\"/>\n",
       "<line clip-path=\"url(#clip5803)\" x1=\"2281.91\" y1=\"163.187\" x2=\"2241.91\" y2=\"163.187\" style=\"stroke:#000000; stroke-width:4; stroke-opacity:1\"/>\n",
       "<polygon clip-path=\"url(#clip5801)\" points=\"\n",
       "1886.18,330.464 2249.26,330.464 2249.26,209.504 1886.18,209.504 \n",
       "  \" fill=\"#ffffff\" fill-rule=\"evenodd\" fill-opacity=\"1\"/>\n",
       "<polyline clip-path=\"url(#clip5801)\" style=\"stroke:#000000; stroke-width:4; stroke-opacity:1; fill:none\" points=\"\n",
       "  1886.18,330.464 2249.26,330.464 2249.26,209.504 1886.18,209.504 1886.18,330.464 \n",
       "  \"/>\n",
       "<circle clip-path=\"url(#clip5801)\" style=\"fill:#000000; stroke:none; fill-opacity:1\" cx=\"1994.18\" cy=\"269.984\" r=\"25\"/>\n",
       "<circle clip-path=\"url(#clip5801)\" style=\"fill:#ff0000; stroke:none; fill-opacity:1\" cx=\"1994.18\" cy=\"269.984\" r=\"21\"/>\n",
       "<g clip-path=\"url(#clip5801)\">\n",
       "<text style=\"fill:#000000; fill-opacity:1; font-family:Arial,Helvetica Neue,Helvetica,sans-serif; font-size:48px; text-anchor:start;\" transform=\"rotate(0, 2078.18, 287.484)\" x=\"2078.18\" y=\"287.484\">BLAS</text>\n",
       "</g>\n",
       "</svg>\n"
      ]
     },
     "execution_count": 56,
     "metadata": {},
     "output_type": "execute_result"
    }
   ],
   "source": [
    "scatter(cData[:SIZE], cData[:MEAN], group = cData[:METHOD], yerr = cData[:DEVIATION],\n",
    "    colour = [:red :blue :green], label = cData[:METHOD], \n",
    "    xlabel = \"Size\", ylabel = \"Time [s]\", title = \"Matrix multiplication in C\")"
   ]
  },
  {
   "cell_type": "code",
   "execution_count": 59,
   "metadata": {},
   "outputs": [
    {
     "data": {
      "text/html": [
       "0.021328016666666626 &#45; 8.110328729603794e-5&#8729;x &#45; 4.526718473193452e-7&#8729;x^2 &#43; 2.0295466200466184e-9&#8729;x^3"
      ],
      "text/plain": [
       "Poly(0.021328016666666626 - 8.110328729603794e-5*x - 4.526718473193452e-7*x^2 + 2.0295466200466184e-9*x^3)"
      ]
     },
     "execution_count": 59,
     "metadata": {},
     "output_type": "execute_result"
    }
   ],
   "source": [
    "using Polynomials\n",
    "cBLASFit = polyfit(cData[:SIZE], cData[:MEAN], 3)"
   ]
  },
  {
   "cell_type": "code",
   "execution_count": 66,
   "metadata": {},
   "outputs": [
    {
     "data": {
      "text/plain": [
       "10×4 Array{Float64,2}:\n",
       " 0.0  0.0  0.0  0.0\n",
       " 0.0  0.0  0.0  0.0\n",
       " 0.0  0.0  0.0  0.0\n",
       " 0.0  0.0  0.0  0.0\n",
       " 0.0  0.0  0.0  0.0\n",
       " 0.0  0.0  0.0  0.0\n",
       " 0.0  0.0  0.0  0.0\n",
       " 0.0  0.0  0.0  0.0\n",
       " 0.0  0.0  0.0  0.0\n",
       " 0.0  0.0  0.0  0.0"
      ]
     },
     "execution_count": 66,
     "metadata": {},
     "output_type": "execute_result"
    }
   ],
   "source": [
    "A = zeros(10,4)"
   ]
  },
  {
   "cell_type": "code",
   "execution_count": 67,
   "metadata": {},
   "outputs": [
    {
     "data": {
      "text/plain": [
       "10-element Array{Int64,1}:\n",
       "    1000000\n",
       "    8000000\n",
       "   27000000\n",
       "   64000000\n",
       "  125000000\n",
       "  216000000\n",
       "  343000000\n",
       "  512000000\n",
       "  729000000\n",
       " 1000000000"
      ]
     },
     "execution_count": 67,
     "metadata": {},
     "output_type": "execute_result"
    }
   ],
   "source": [
    "A[:,1]=cData[:SIZE].^3"
   ]
  },
  {
   "cell_type": "code",
   "execution_count": 68,
   "metadata": {},
   "outputs": [
    {
     "data": {
      "text/plain": [
       "10-element Array{Int64,1}:\n",
       "   10000\n",
       "   40000\n",
       "   90000\n",
       "  160000\n",
       "  250000\n",
       "  360000\n",
       "  490000\n",
       "  640000\n",
       "  810000\n",
       " 1000000"
      ]
     },
     "execution_count": 68,
     "metadata": {},
     "output_type": "execute_result"
    }
   ],
   "source": [
    "A[:,2]=cData[:SIZE].^2"
   ]
  },
  {
   "cell_type": "code",
   "execution_count": 69,
   "metadata": {},
   "outputs": [
    {
     "data": {
      "text/plain": [
       "10-element Array{Union{Missing, Int64},1}:\n",
       "  100\n",
       "  200\n",
       "  300\n",
       "  400\n",
       "  500\n",
       "  600\n",
       "  700\n",
       "  800\n",
       "  900\n",
       " 1000"
      ]
     },
     "execution_count": 69,
     "metadata": {},
     "output_type": "execute_result"
    }
   ],
   "source": [
    "A[:,3]=cData[:SIZE]"
   ]
  },
  {
   "cell_type": "code",
   "execution_count": 70,
   "metadata": {},
   "outputs": [
    {
     "data": {
      "text/plain": [
       "10-element Array{Float64,1}:\n",
       " 1.0\n",
       " 1.0\n",
       " 1.0\n",
       " 1.0\n",
       " 1.0\n",
       " 1.0\n",
       " 1.0\n",
       " 1.0\n",
       " 1.0\n",
       " 1.0"
      ]
     },
     "execution_count": 70,
     "metadata": {},
     "output_type": "execute_result"
    }
   ],
   "source": [
    "A[:,4]=ones(10)"
   ]
  },
  {
   "cell_type": "code",
   "execution_count": 71,
   "metadata": {},
   "outputs": [
    {
     "data": {
      "text/plain": [
       "10×4 Array{Float64,2}:\n",
       " 1.0e6    10000.0     100.0  1.0\n",
       " 8.0e6    40000.0     200.0  1.0\n",
       " 2.7e7    90000.0     300.0  1.0\n",
       " 6.4e7   160000.0     400.0  1.0\n",
       " 1.25e8  250000.0     500.0  1.0\n",
       " 2.16e8  360000.0     600.0  1.0\n",
       " 3.43e8  490000.0     700.0  1.0\n",
       " 5.12e8  640000.0     800.0  1.0\n",
       " 7.29e8  810000.0     900.0  1.0\n",
       " 1.0e9        1.0e6  1000.0  1.0"
      ]
     },
     "execution_count": 71,
     "metadata": {},
     "output_type": "execute_result"
    }
   ],
   "source": [
    "A"
   ]
  },
  {
   "cell_type": "code",
   "execution_count": 75,
   "metadata": {},
   "outputs": [
    {
     "data": {
      "text/plain": [
       "4-element Array{Float64,1}:\n",
       "  2.0295466200466184e-9\n",
       " -4.526718473193452e-7 \n",
       " -8.110328729603794e-5 \n",
       "  0.021328016666666626 "
      ]
     },
     "execution_count": 75,
     "metadata": {},
     "output_type": "execute_result"
    }
   ],
   "source": [
    "a = A\\cData[:MEAN]"
   ]
  },
  {
   "cell_type": "code",
   "execution_count": 76,
   "metadata": {},
   "outputs": [
    {
     "data": {
      "text/html": [
       "0.021328016666666626 &#45; 8.110328729603794e-5&#8729;x &#45; 4.526718473193452e-7&#8729;x^2 &#43; 2.0295466200466184e-9&#8729;x^3"
      ],
      "text/plain": [
       "Poly(0.021328016666666626 - 8.110328729603794e-5*x - 4.526718473193452e-7*x^2 + 2.0295466200466184e-9*x^3)"
      ]
     },
     "execution_count": 76,
     "metadata": {},
     "output_type": "execute_result"
    }
   ],
   "source": [
    "cBLASFit"
   ]
  },
  {
   "cell_type": "code",
   "execution_count": null,
   "metadata": {},
   "outputs": [],
   "source": []
  },
  {
   "cell_type": "code",
   "execution_count": null,
   "metadata": {},
   "outputs": [],
   "source": []
  }
 ],
 "metadata": {
  "kernelspec": {
   "display_name": "Julia 1.0.1",
   "language": "julia",
   "name": "julia-1.0"
  },
  "language_info": {
   "file_extension": ".jl",
   "mimetype": "application/julia",
   "name": "julia",
   "version": "1.0.1"
  }
 },
 "nbformat": 4,
 "nbformat_minor": 2
}
